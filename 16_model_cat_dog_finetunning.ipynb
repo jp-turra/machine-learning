{
 "cells": [
  {
   "cell_type": "markdown",
   "metadata": {},
   "source": [
    "# Imports"
   ]
  },
  {
   "cell_type": "code",
   "execution_count": 1,
   "metadata": {},
   "outputs": [
    {
     "name": "stderr",
     "output_type": "stream",
     "text": [
      "2024-07-25 15:44:15.043594: I tensorflow/core/util/port.cc:153] oneDNN custom operations are on. You may see slightly different numerical results due to floating-point round-off errors from different computation orders. To turn them off, set the environment variable `TF_ENABLE_ONEDNN_OPTS=0`.\n",
      "2024-07-25 15:44:15.123567: E external/local_xla/xla/stream_executor/cuda/cuda_fft.cc:485] Unable to register cuFFT factory: Attempting to register factory for plugin cuFFT when one has already been registered\n",
      "2024-07-25 15:44:15.189263: E external/local_xla/xla/stream_executor/cuda/cuda_dnn.cc:8454] Unable to register cuDNN factory: Attempting to register factory for plugin cuDNN when one has already been registered\n",
      "2024-07-25 15:44:15.215424: E external/local_xla/xla/stream_executor/cuda/cuda_blas.cc:1452] Unable to register cuBLAS factory: Attempting to register factory for plugin cuBLAS when one has already been registered\n",
      "2024-07-25 15:44:15.267634: I tensorflow/core/platform/cpu_feature_guard.cc:210] This TensorFlow binary is optimized to use available CPU instructions in performance-critical operations.\n",
      "To enable the following instructions: AVX2 AVX512F AVX512_VNNI FMA, in other operations, rebuild TensorFlow with the appropriate compiler flags.\n",
      "2024-07-25 15:44:16.903558: W tensorflow/compiler/tf2tensorrt/utils/py_utils.cc:38] TF-TRT Warning: Could not find TensorRT\n"
     ]
    },
    {
     "data": {
      "text/plain": [
       "'%.4f'"
      ]
     },
     "execution_count": 1,
     "metadata": {},
     "output_type": "execute_result"
    }
   ],
   "source": [
    "import os\n",
    "import cv2\n",
    "import numpy as np\n",
    "import matplotlib.pyplot as plt\n",
    "\n",
    "from keras import KerasTensor\n",
    "from keras.api.models import Sequential, Model, model_from_json\n",
    "from keras.api.optimizers import Adam\n",
    "from keras.api.metrics import BinaryAccuracy, RootMeanSquaredError\n",
    "from keras.api.losses import BinaryCrossentropy, Hinge\n",
    "from keras.api.layers import Dense, Dropout, Add, Input\n",
    "# Layers for preprocessing\n",
    "from keras.api.layers import Rescaling, Resizing, RandomFlip, RandomRotation, \\\n",
    "    RandomTranslation, RandomZoom, RandomCrop, RandomBrightness, RandomContrast\n",
    "\n",
    "from sklearn.model_selection import StratifiedKFold, ShuffleSplit\n",
    "from sklearn.preprocessing import LabelEncoder\n",
    "\n",
    "from utils.model_utils import print_history, plot_history#, load_image_from_directory\n",
    "\n",
    "%precision 4"
   ]
  },
  {
   "cell_type": "markdown",
   "metadata": {},
   "source": [
    "# Importing"
   ]
  },
  {
   "cell_type": "code",
   "execution_count": 2,
   "metadata": {},
   "outputs": [],
   "source": [
    "def load_image_from_directory(dir_path: os.PathLike, class_names: list, image_shape=(224, 224)):\n",
    "    if not os.path.exists(dir_path):\n",
    "        return [], []\n",
    "    \n",
    "    imagens = []\n",
    "    labels = []\n",
    "\n",
    "    for item in os.listdir(dir_path):\n",
    "        if item in class_names and os.path.isdir(os.path.join(dir_path, item)):\n",
    "            for file in os.listdir(os.path.join(dir_path, item)):\n",
    "                image_path = os.path.join(dir_path, item, file)\n",
    "                if os.path.isfile(image_path):\n",
    "                    try:\n",
    "                        image = cv2.imread(image_path)\n",
    "                        if image is not None:         \n",
    "                            image = cv2.cvtColor(image, cv2.COLOR_BGR2RGB)\n",
    "                            if image_shape:\n",
    "                                image = cv2.resize(image, image_shape)\n",
    "\n",
    "                            imagens.append(image)\n",
    "                            labels.append(item)\n",
    "                    except:\n",
    "                        pass\n",
    "    try:\n",
    "        return np.array(imagens), np.array(labels)\n",
    "    except:\n",
    "        return imagens, np.array(labels)"
   ]
  },
  {
   "cell_type": "code",
   "execution_count": 3,
   "metadata": {},
   "outputs": [],
   "source": [
    "base_dir = os.path.join(os.getcwd(), 'datasets', 'cat_dog_2')\n",
    "label_names = ['cat', 'dog']\n",
    "\n",
    "X_test, y_test = load_image_from_directory(\n",
    "    dir_path=os.path.join(base_dir, 'test_set'),\n",
    "    class_names=label_names,\n",
    "    image_shape=(64, 64)\n",
    ")\n",
    "\n",
    "X_train, y_train = load_image_from_directory(\n",
    "    dir_path=os.path.join(base_dir, 'training_set'),\n",
    "    class_names=label_names,\n",
    "    image_shape=(64, 64)\n",
    ")"
   ]
  },
  {
   "cell_type": "code",
   "execution_count": 4,
   "metadata": {},
   "outputs": [
    {
     "name": "stdout",
     "output_type": "stream",
     "text": [
      "Image shape:  (64, 64, 3)\n",
      "Label shape:  ()\n",
      "\n",
      "Image:  [[[[ 30  32  31]\n",
      "   [ 26  27  32]\n",
      "   [ 51  66  87]\n",
      "   ...\n",
      "   [ 30  32  31]\n",
      "   [ 30  32  31]\n",
      "   [ 33  35  34]]\n",
      "\n",
      "  [[ 29  31  30]\n",
      "   [ 27  28  32]\n",
      "   [ 82  98 122]\n",
      "   ...\n",
      "   [ 27  29  28]\n",
      "   [ 30  32  31]\n",
      "   [ 35  37  36]]\n",
      "\n",
      "  [[ 27  29  28]\n",
      "   [ 27  28  33]\n",
      "   [ 66  86  97]\n",
      "   ...\n",
      "   [ 27  29  28]\n",
      "   [ 31  33  32]\n",
      "   [ 33  34  33]]\n",
      "\n",
      "  ...\n",
      "\n",
      "  [[ 60  96  21]\n",
      "   [122 149  99]\n",
      "   [119 149  97]\n",
      "   ...\n",
      "   [ 45  59  62]\n",
      "   [ 46  60  63]\n",
      "   [ 43  57  60]]\n",
      "\n",
      "  [[123 129  92]\n",
      "   [ 82 111  59]\n",
      "   [ 72 100  64]\n",
      "   ...\n",
      "   [ 45  58  66]\n",
      "   [ 42  55  63]\n",
      "   [ 42  55  63]]\n",
      "\n",
      "  [[ 61  86  49]\n",
      "   [ 65  88  59]\n",
      "   [ 55  75  47]\n",
      "   ...\n",
      "   [ 43  59  66]\n",
      "   [ 42  59  66]\n",
      "   [ 40  57  64]]]]\n",
      "Label:  dog\n"
     ]
    },
    {
     "data": {
      "image/png": "[encoded data removed]",
      "text/plain": [
       "<Figure size 640x480 with 1 Axes>"
      ]
     },
     "metadata": {},
     "output_type": "display_data"
    }
   ],
   "source": [
    "index = 0\n",
    "\n",
    "print(\"Image shape: \", X_train[index].shape)\n",
    "print(\"Label shape: \", y_train[index].shape)\n",
    "\n",
    "print()\n",
    "\n",
    "\n",
    "print(\"Image: \", X_train[index:index+1])\n",
    "print(\"Label: \", y_train[index])\n",
    "\n",
    "plt.imshow(X_train[index].astype(\"uint8\"))\n",
    "plt.title(f'Classe: {y_train[index]}')\n",
    "plt.show()"
   ]
  },
  {
   "cell_type": "markdown",
   "metadata": {},
   "source": [
    "# Preparing data"
   ]
  },
  {
   "cell_type": "code",
   "execution_count": 5,
   "metadata": {},
   "outputs": [
    {
     "name": "stdout",
     "output_type": "stream",
     "text": [
      "['cat' 'dog']\n"
     ]
    }
   ],
   "source": [
    "label_names = ['cat', 'dog']\n",
    "label_encoder = LabelEncoder()\n",
    "label_encoder.fit(label_names)\n",
    "\n",
    "def preprocess_labels(labels):\n",
    "    global label_encoder\n",
    "    \n",
    "    return label_encoder.transform(labels)\n",
    "\n",
    "label_names = label_encoder.classes_\n",
    "print(label_names)\n",
    "\n",
    "y_test = preprocess_labels(y_test)\n",
    "y_train = preprocess_labels(y_train)"
   ]
  },
  {
   "cell_type": "code",
   "execution_count": 6,
   "metadata": {},
   "outputs": [
    {
     "data": {
      "text/plain": [
       "array([1, 1, 1, 1, 1, 1, 1, 1, 1, 1])"
      ]
     },
     "execution_count": 6,
     "metadata": {},
     "output_type": "execute_result"
    }
   ],
   "source": [
    "y_train[0:10]"
   ]
  },
  {
   "cell_type": "code",
   "execution_count": 7,
   "metadata": {},
   "outputs": [
    {
     "name": "stderr",
     "output_type": "stream",
     "text": [
      "WARNING: All log messages before absl::InitializeLog() is called are written to STDERR\n",
      "I0000 00:00:1721933066.336687  225970 cuda_executor.cc:1001] could not open file to read NUMA node: /sys/bus/pci/devices/0000:01:00.0/numa_node\n",
      "Your kernel may have been built without NUMA support.\n",
      "I0000 00:00:1721933066.587274  225970 cuda_executor.cc:1001] could not open file to read NUMA node: /sys/bus/pci/devices/0000:01:00.0/numa_node\n",
      "Your kernel may have been built without NUMA support.\n",
      "I0000 00:00:1721933066.587389  225970 cuda_executor.cc:1001] could not open file to read NUMA node: /sys/bus/pci/devices/0000:01:00.0/numa_node\n",
      "Your kernel may have been built without NUMA support.\n",
      "I0000 00:00:1721933066.592298  225970 cuda_executor.cc:1001] could not open file to read NUMA node: /sys/bus/pci/devices/0000:01:00.0/numa_node\n",
      "Your kernel may have been built without NUMA support.\n",
      "I0000 00:00:1721933066.592459  225970 cuda_executor.cc:1001] could not open file to read NUMA node: /sys/bus/pci/devices/0000:01:00.0/numa_node\n",
      "Your kernel may have been built without NUMA support.\n",
      "I0000 00:00:1721933066.592574  225970 cuda_executor.cc:1001] could not open file to read NUMA node: /sys/bus/pci/devices/0000:01:00.0/numa_node\n",
      "Your kernel may have been built without NUMA support.\n",
      "I0000 00:00:1721933067.364205  225970 cuda_executor.cc:1001] could not open file to read NUMA node: /sys/bus/pci/devices/0000:01:00.0/numa_node\n",
      "Your kernel may have been built without NUMA support.\n",
      "I0000 00:00:1721933067.364308  225970 cuda_executor.cc:1001] could not open file to read NUMA node: /sys/bus/pci/devices/0000:01:00.0/numa_node\n",
      "Your kernel may have been built without NUMA support.\n",
      "2024-07-25 15:44:27.364323: I tensorflow/core/common_runtime/gpu/gpu_device.cc:2112] Could not identify NUMA node of platform GPU id 0, defaulting to 0.  Your kernel may not have been built with NUMA support.\n",
      "I0000 00:00:1721933067.364386  225970 cuda_executor.cc:1001] could not open file to read NUMA node: /sys/bus/pci/devices/0000:01:00.0/numa_node\n",
      "Your kernel may have been built without NUMA support.\n",
      "2024-07-25 15:44:27.364482: I tensorflow/core/common_runtime/gpu/gpu_device.cc:2021] Created device /job:localhost/replica:0/task:0/device:GPU:0 with 1347 MB memory:  -> device: 0, name: NVIDIA GeForce MX450, pci bus id: 0000:01:00.0, compute capability: 7.5\n"
     ]
    },
    {
     "name": "stdout",
     "output_type": "stream",
     "text": [
      "Processing 250 images each step. Number of steps: 16!\n"
     ]
    }
   ],
   "source": [
    "rescale = Sequential([\n",
    "    Rescaling(scale=1.0 / 255)\n",
    "])\n",
    "\n",
    "data_augmentation = Sequential([\n",
    "    RandomFlip(\"horizontal\"),\n",
    "    RandomRotation(0.2),\n",
    "    RandomZoom(0.2),\n",
    "    RandomBrightness(0.2),\n",
    "    RandomContrast(0.2),\n",
    "    rescale\n",
    "])\n",
    "\n",
    "def preprocess_images(images, batch_size=0):\n",
    "    global data_augmentation\n",
    "     \n",
    "    if batch_size <= 0:\n",
    "        print(\"Processing all images at once!\")\n",
    "        return np.asarray([data_augmentation(image) for image in images], dtype=np.float32)\n",
    "    else:\n",
    "        samples = len(images)\n",
    "        num_batches = samples // batch_size\n",
    "        if samples % batch_size > 0:\n",
    "            num_batches += 1\n",
    "\n",
    "        print(f\"Processing {batch_size} images each step. Number of steps: {num_batches}!\")\n",
    "        processed_images = None\n",
    "        for i in range(num_batches):\n",
    "            \n",
    "            start = i * batch_size\n",
    "            end = start + batch_size\n",
    "            if end > samples:\n",
    "                end = samples\n",
    "\n",
    "            if processed_images is None:\n",
    "                processed_images = data_augmentation(images[start:end])\n",
    "            else:\n",
    "                processed_images = np.concatenate([processed_images, data_augmentation(images[start:end])])\n",
    "\n",
    "        return np.asarray(processed_images, dtype=np.float32)\n",
    "\n",
    "X_train_processed = preprocess_images(X_train, batch_size=250)"
   ]
  },
  {
   "cell_type": "code",
   "execution_count": 8,
   "metadata": {},
   "outputs": [
    {
     "data": {
      "text/plain": [
       "(4000, 64, 64, 3)"
      ]
     },
     "execution_count": 8,
     "metadata": {},
     "output_type": "execute_result"
    }
   ],
   "source": [
    "X_train_processed.shape"
   ]
  },
  {
   "cell_type": "code",
   "execution_count": 9,
   "metadata": {},
   "outputs": [
    {
     "data": {
      "image/png": "[encoded data removed]",
      "text/plain": [
       "<Figure size 640x480 with 1 Axes>"
      ]
     },
     "metadata": {},
     "output_type": "display_data"
    }
   ],
   "source": [
    "index = np.random.randint(0, X_train_processed.shape[0])\n",
    "\n",
    "plt.imshow(X_train_processed[index])\n",
    "plt.title(f'Classe: {label_names[y_train[index]]}')\n",
    "plt.show()"
   ]
  },
  {
   "cell_type": "code",
   "execution_count": 10,
   "metadata": {},
   "outputs": [
    {
     "name": "stdout",
     "output_type": "stream",
     "text": [
      "(4000, 64, 64, 3)\n",
      "(4000,)\n"
     ]
    }
   ],
   "source": [
    "shuffle = ShuffleSplit(n_splits=1, test_size=1)\n",
    "\n",
    "X_train_processed_shuffle = None\n",
    "y_train_shuffle = None\n",
    "for i, (train_index, test_index) in enumerate(shuffle.split(X=X_train_processed, y=y_train)):\n",
    "    indexes = np.concatenate([train_index, test_index])\n",
    "    X_train_processed_shuffle = X_train_processed[indexes]\n",
    "    print(X_train_processed_shuffle.shape)\n",
    "\n",
    "    y_train_shuffle = y_train[indexes]\n",
    "    print(y_train.shape)\n"
   ]
  },
  {
   "cell_type": "markdown",
   "metadata": {},
   "source": [
    "# Getting the model"
   ]
  },
  {
   "cell_type": "code",
   "execution_count": 11,
   "metadata": {},
   "outputs": [
    {
     "data": {
      "text/html": [
       "<pre style=\"white-space:pre;overflow-x:auto;line-height:normal;font-family:Menlo,'DejaVu Sans Mono',consolas,'Courier New',monospace\"><span style=\"font-weight: bold\">Model: \"Cat_Dogs\"</span>\n",
       "</pre>\n"
      ],
      "text/plain": [
       "\u001b[1mModel: \"Cat_Dogs\"\u001b[0m\n"
      ]
     },
     "metadata": {},
     "output_type": "display_data"
    },
    {
     "data": {
      "text/html": [
       "<pre style=\"white-space:pre;overflow-x:auto;line-height:normal;font-family:Menlo,'DejaVu Sans Mono',consolas,'Courier New',monospace\">┏━━━━━━━━━━━━━━━━━━━━━━━━━━━━━━━━━┳━━━━━━━━━━━━━━━━━━━━━━━━┳━━━━━━━━━━━━━━━┓\n",
       "┃<span style=\"font-weight: bold\"> Layer (type)                    </span>┃<span style=\"font-weight: bold\"> Output Shape           </span>┃<span style=\"font-weight: bold\">       Param # </span>┃\n",
       "┡━━━━━━━━━━━━━━━━━━━━━━━━━━━━━━━━━╇━━━━━━━━━━━━━━━━━━━━━━━━╇━━━━━━━━━━━━━━━┩\n",
       "│ conv2d_2 (<span style=\"color: #0087ff; text-decoration-color: #0087ff\">Conv2D</span>)               │ (<span style=\"color: #00d7ff; text-decoration-color: #00d7ff\">None</span>, <span style=\"color: #00af00; text-decoration-color: #00af00\">64</span>, <span style=\"color: #00af00; text-decoration-color: #00af00\">64</span>, <span style=\"color: #00af00; text-decoration-color: #00af00\">32</span>)     │           <span style=\"color: #00af00; text-decoration-color: #00af00\">896</span> │\n",
       "├─────────────────────────────────┼────────────────────────┼───────────────┤\n",
       "│ batch_normalization_2           │ (<span style=\"color: #00d7ff; text-decoration-color: #00d7ff\">None</span>, <span style=\"color: #00af00; text-decoration-color: #00af00\">64</span>, <span style=\"color: #00af00; text-decoration-color: #00af00\">64</span>, <span style=\"color: #00af00; text-decoration-color: #00af00\">32</span>)     │           <span style=\"color: #00af00; text-decoration-color: #00af00\">128</span> │\n",
       "│ (<span style=\"color: #0087ff; text-decoration-color: #0087ff\">BatchNormalization</span>)            │                        │               │\n",
       "├─────────────────────────────────┼────────────────────────┼───────────────┤\n",
       "│ max_pooling2d_2 (<span style=\"color: #0087ff; text-decoration-color: #0087ff\">MaxPooling2D</span>)  │ (<span style=\"color: #00d7ff; text-decoration-color: #00d7ff\">None</span>, <span style=\"color: #00af00; text-decoration-color: #00af00\">32</span>, <span style=\"color: #00af00; text-decoration-color: #00af00\">32</span>, <span style=\"color: #00af00; text-decoration-color: #00af00\">32</span>)     │             <span style=\"color: #00af00; text-decoration-color: #00af00\">0</span> │\n",
       "├─────────────────────────────────┼────────────────────────┼───────────────┤\n",
       "│ conv2d_3 (<span style=\"color: #0087ff; text-decoration-color: #0087ff\">Conv2D</span>)               │ (<span style=\"color: #00d7ff; text-decoration-color: #00d7ff\">None</span>, <span style=\"color: #00af00; text-decoration-color: #00af00\">32</span>, <span style=\"color: #00af00; text-decoration-color: #00af00\">32</span>, <span style=\"color: #00af00; text-decoration-color: #00af00\">32</span>)     │        <span style=\"color: #00af00; text-decoration-color: #00af00\">16,416</span> │\n",
       "├─────────────────────────────────┼────────────────────────┼───────────────┤\n",
       "│ batch_normalization_3           │ (<span style=\"color: #00d7ff; text-decoration-color: #00d7ff\">None</span>, <span style=\"color: #00af00; text-decoration-color: #00af00\">32</span>, <span style=\"color: #00af00; text-decoration-color: #00af00\">32</span>, <span style=\"color: #00af00; text-decoration-color: #00af00\">32</span>)     │           <span style=\"color: #00af00; text-decoration-color: #00af00\">128</span> │\n",
       "│ (<span style=\"color: #0087ff; text-decoration-color: #0087ff\">BatchNormalization</span>)            │                        │               │\n",
       "├─────────────────────────────────┼────────────────────────┼───────────────┤\n",
       "│ max_pooling2d_3 (<span style=\"color: #0087ff; text-decoration-color: #0087ff\">MaxPooling2D</span>)  │ (<span style=\"color: #00d7ff; text-decoration-color: #00d7ff\">None</span>, <span style=\"color: #00af00; text-decoration-color: #00af00\">16</span>, <span style=\"color: #00af00; text-decoration-color: #00af00\">16</span>, <span style=\"color: #00af00; text-decoration-color: #00af00\">32</span>)     │             <span style=\"color: #00af00; text-decoration-color: #00af00\">0</span> │\n",
       "├─────────────────────────────────┼────────────────────────┼───────────────┤\n",
       "│ flatten_1 (<span style=\"color: #0087ff; text-decoration-color: #0087ff\">Flatten</span>)             │ (<span style=\"color: #00d7ff; text-decoration-color: #00d7ff\">None</span>, <span style=\"color: #00af00; text-decoration-color: #00af00\">8192</span>)           │             <span style=\"color: #00af00; text-decoration-color: #00af00\">0</span> │\n",
       "├─────────────────────────────────┼────────────────────────┼───────────────┤\n",
       "│ dense_3 (<span style=\"color: #0087ff; text-decoration-color: #0087ff\">Dense</span>)                 │ (<span style=\"color: #00d7ff; text-decoration-color: #00d7ff\">None</span>, <span style=\"color: #00af00; text-decoration-color: #00af00\">128</span>)            │     <span style=\"color: #00af00; text-decoration-color: #00af00\">1,048,704</span> │\n",
       "├─────────────────────────────────┼────────────────────────┼───────────────┤\n",
       "│ dropout_2 (<span style=\"color: #0087ff; text-decoration-color: #0087ff\">Dropout</span>)             │ (<span style=\"color: #00d7ff; text-decoration-color: #00d7ff\">None</span>, <span style=\"color: #00af00; text-decoration-color: #00af00\">128</span>)            │             <span style=\"color: #00af00; text-decoration-color: #00af00\">0</span> │\n",
       "├─────────────────────────────────┼────────────────────────┼───────────────┤\n",
       "│ dense_4 (<span style=\"color: #0087ff; text-decoration-color: #0087ff\">Dense</span>)                 │ (<span style=\"color: #00d7ff; text-decoration-color: #00d7ff\">None</span>, <span style=\"color: #00af00; text-decoration-color: #00af00\">128</span>)            │        <span style=\"color: #00af00; text-decoration-color: #00af00\">16,512</span> │\n",
       "├─────────────────────────────────┼────────────────────────┼───────────────┤\n",
       "│ dropout_3 (<span style=\"color: #0087ff; text-decoration-color: #0087ff\">Dropout</span>)             │ (<span style=\"color: #00d7ff; text-decoration-color: #00d7ff\">None</span>, <span style=\"color: #00af00; text-decoration-color: #00af00\">128</span>)            │             <span style=\"color: #00af00; text-decoration-color: #00af00\">0</span> │\n",
       "├─────────────────────────────────┼────────────────────────┼───────────────┤\n",
       "│ dense_5 (<span style=\"color: #0087ff; text-decoration-color: #0087ff\">Dense</span>)                 │ (<span style=\"color: #00d7ff; text-decoration-color: #00d7ff\">None</span>, <span style=\"color: #00af00; text-decoration-color: #00af00\">1</span>)              │           <span style=\"color: #00af00; text-decoration-color: #00af00\">129</span> │\n",
       "└─────────────────────────────────┴────────────────────────┴───────────────┘\n",
       "</pre>\n"
      ],
      "text/plain": [
       "┏━━━━━━━━━━━━━━━━━━━━━━━━━━━━━━━━━┳━━━━━━━━━━━━━━━━━━━━━━━━┳━━━━━━━━━━━━━━━┓\n",
       "┃\u001b[1m \u001b[0m\u001b[1mLayer (type)                   \u001b[0m\u001b[1m \u001b[0m┃\u001b[1m \u001b[0m\u001b[1mOutput Shape          \u001b[0m\u001b[1m \u001b[0m┃\u001b[1m \u001b[0m\u001b[1m      Param #\u001b[0m\u001b[1m \u001b[0m┃\n",
       "┡━━━━━━━━━━━━━━━━━━━━━━━━━━━━━━━━━╇━━━━━━━━━━━━━━━━━━━━━━━━╇━━━━━━━━━━━━━━━┩\n",
       "│ conv2d_2 (\u001b[38;5;33mConv2D\u001b[0m)               │ (\u001b[38;5;45mNone\u001b[0m, \u001b[38;5;34m64\u001b[0m, \u001b[38;5;34m64\u001b[0m, \u001b[38;5;34m32\u001b[0m)     │           \u001b[38;5;34m896\u001b[0m │\n",
       "├─────────────────────────────────┼────────────────────────┼───────────────┤\n",
       "│ batch_normalization_2           │ (\u001b[38;5;45mNone\u001b[0m, \u001b[38;5;34m64\u001b[0m, \u001b[38;5;34m64\u001b[0m, \u001b[38;5;34m32\u001b[0m)     │           \u001b[38;5;34m128\u001b[0m │\n",
       "│ (\u001b[38;5;33mBatchNormalization\u001b[0m)            │                        │               │\n",
       "├─────────────────────────────────┼────────────────────────┼───────────────┤\n",
       "│ max_pooling2d_2 (\u001b[38;5;33mMaxPooling2D\u001b[0m)  │ (\u001b[38;5;45mNone\u001b[0m, \u001b[38;5;34m32\u001b[0m, \u001b[38;5;34m32\u001b[0m, \u001b[38;5;34m32\u001b[0m)     │             \u001b[38;5;34m0\u001b[0m │\n",
       "├─────────────────────────────────┼────────────────────────┼───────────────┤\n",
       "│ conv2d_3 (\u001b[38;5;33mConv2D\u001b[0m)               │ (\u001b[38;5;45mNone\u001b[0m, \u001b[38;5;34m32\u001b[0m, \u001b[38;5;34m32\u001b[0m, \u001b[38;5;34m32\u001b[0m)     │        \u001b[38;5;34m16,416\u001b[0m │\n",
       "├─────────────────────────────────┼────────────────────────┼───────────────┤\n",
       "│ batch_normalization_3           │ (\u001b[38;5;45mNone\u001b[0m, \u001b[38;5;34m32\u001b[0m, \u001b[38;5;34m32\u001b[0m, \u001b[38;5;34m32\u001b[0m)     │           \u001b[38;5;34m128\u001b[0m │\n",
       "│ (\u001b[38;5;33mBatchNormalization\u001b[0m)            │                        │               │\n",
       "├─────────────────────────────────┼────────────────────────┼───────────────┤\n",
       "│ max_pooling2d_3 (\u001b[38;5;33mMaxPooling2D\u001b[0m)  │ (\u001b[38;5;45mNone\u001b[0m, \u001b[38;5;34m16\u001b[0m, \u001b[38;5;34m16\u001b[0m, \u001b[38;5;34m32\u001b[0m)     │             \u001b[38;5;34m0\u001b[0m │\n",
       "├─────────────────────────────────┼────────────────────────┼───────────────┤\n",
       "│ flatten_1 (\u001b[38;5;33mFlatten\u001b[0m)             │ (\u001b[38;5;45mNone\u001b[0m, \u001b[38;5;34m8192\u001b[0m)           │             \u001b[38;5;34m0\u001b[0m │\n",
       "├─────────────────────────────────┼────────────────────────┼───────────────┤\n",
       "│ dense_3 (\u001b[38;5;33mDense\u001b[0m)                 │ (\u001b[38;5;45mNone\u001b[0m, \u001b[38;5;34m128\u001b[0m)            │     \u001b[38;5;34m1,048,704\u001b[0m │\n",
       "├─────────────────────────────────┼────────────────────────┼───────────────┤\n",
       "│ dropout_2 (\u001b[38;5;33mDropout\u001b[0m)             │ (\u001b[38;5;45mNone\u001b[0m, \u001b[38;5;34m128\u001b[0m)            │             \u001b[38;5;34m0\u001b[0m │\n",
       "├─────────────────────────────────┼────────────────────────┼───────────────┤\n",
       "│ dense_4 (\u001b[38;5;33mDense\u001b[0m)                 │ (\u001b[38;5;45mNone\u001b[0m, \u001b[38;5;34m128\u001b[0m)            │        \u001b[38;5;34m16,512\u001b[0m │\n",
       "├─────────────────────────────────┼────────────────────────┼───────────────┤\n",
       "│ dropout_3 (\u001b[38;5;33mDropout\u001b[0m)             │ (\u001b[38;5;45mNone\u001b[0m, \u001b[38;5;34m128\u001b[0m)            │             \u001b[38;5;34m0\u001b[0m │\n",
       "├─────────────────────────────────┼────────────────────────┼───────────────┤\n",
       "│ dense_5 (\u001b[38;5;33mDense\u001b[0m)                 │ (\u001b[38;5;45mNone\u001b[0m, \u001b[38;5;34m1\u001b[0m)              │           \u001b[38;5;34m129\u001b[0m │\n",
       "└─────────────────────────────────┴────────────────────────┴───────────────┘\n"
      ]
     },
     "metadata": {},
     "output_type": "display_data"
    },
    {
     "data": {
      "text/html": [
       "<pre style=\"white-space:pre;overflow-x:auto;line-height:normal;font-family:Menlo,'DejaVu Sans Mono',consolas,'Courier New',monospace\"><span style=\"font-weight: bold\"> Total params: </span><span style=\"color: #00af00; text-decoration-color: #00af00\">3,248,485</span> (12.39 MB)\n",
       "</pre>\n"
      ],
      "text/plain": [
       "\u001b[1m Total params: \u001b[0m\u001b[38;5;34m3,248,485\u001b[0m (12.39 MB)\n"
      ]
     },
     "metadata": {},
     "output_type": "display_data"
    },
    {
     "data": {
      "text/html": [
       "<pre style=\"white-space:pre;overflow-x:auto;line-height:normal;font-family:Menlo,'DejaVu Sans Mono',consolas,'Courier New',monospace\"><span style=\"font-weight: bold\"> Trainable params: </span><span style=\"color: #00af00; text-decoration-color: #00af00\">0</span> (0.00 B)\n",
       "</pre>\n"
      ],
      "text/plain": [
       "\u001b[1m Trainable params: \u001b[0m\u001b[38;5;34m0\u001b[0m (0.00 B)\n"
      ]
     },
     "metadata": {},
     "output_type": "display_data"
    },
    {
     "data": {
      "text/html": [
       "<pre style=\"white-space:pre;overflow-x:auto;line-height:normal;font-family:Menlo,'DejaVu Sans Mono',consolas,'Courier New',monospace\"><span style=\"font-weight: bold\"> Non-trainable params: </span><span style=\"color: #00af00; text-decoration-color: #00af00\">1,082,913</span> (4.13 MB)\n",
       "</pre>\n"
      ],
      "text/plain": [
       "\u001b[1m Non-trainable params: \u001b[0m\u001b[38;5;34m1,082,913\u001b[0m (4.13 MB)\n"
      ]
     },
     "metadata": {},
     "output_type": "display_data"
    },
    {
     "data": {
      "text/html": [
       "<pre style=\"white-space:pre;overflow-x:auto;line-height:normal;font-family:Menlo,'DejaVu Sans Mono',consolas,'Courier New',monospace\"><span style=\"font-weight: bold\"> Optimizer params: </span><span style=\"color: #00af00; text-decoration-color: #00af00\">2,165,572</span> (8.26 MB)\n",
       "</pre>\n"
      ],
      "text/plain": [
       "\u001b[1m Optimizer params: \u001b[0m\u001b[38;5;34m2,165,572\u001b[0m (8.26 MB)\n"
      ]
     },
     "metadata": {},
     "output_type": "display_data"
    }
   ],
   "source": [
    "model_base_dir = os.path.join(\n",
    "    os.getcwd(), 'models', 'cat_dog'\n",
    ")\n",
    "\n",
    "with open(os.path.join(model_base_dir, 'Cat_Dogs.model.json'), 'r') as json:\n",
    "    model: Model = model_from_json(\n",
    "        json_string = json.read()\n",
    "    )\n",
    "\n",
    "model.load_weights(\n",
    "    filepath= os.path.join(model_base_dir, 'Cat_Dogs.weights.h5')\n",
    ")\n",
    "model.trainable = False # Freeze the base model\n",
    "model.summary()"
   ]
  },
  {
   "cell_type": "markdown",
   "metadata": {},
   "source": [
    "# Checking model efficiency"
   ]
  },
  {
   "cell_type": "code",
   "execution_count": 12,
   "metadata": {},
   "outputs": [
    {
     "name": "stderr",
     "output_type": "stream",
     "text": [
      "2024-07-25 15:44:32.526557: I external/local_xla/xla/stream_executor/cuda/cuda_dnn.cc:531] Loaded cuDNN version 8907\n",
      "W0000 00:00:1721933072.699717  226304 gpu_timer.cc:114] Skipping the delay kernel, measurement accuracy will be reduced\n",
      "W0000 00:00:1721933072.723294  226304 gpu_timer.cc:114] Skipping the delay kernel, measurement accuracy will be reduced\n",
      "W0000 00:00:1721933072.755552  226304 gpu_timer.cc:114] Skipping the delay kernel, measurement accuracy will be reduced\n",
      "W0000 00:00:1721933072.759715  226304 gpu_timer.cc:114] Skipping the delay kernel, measurement accuracy will be reduced\n",
      "W0000 00:00:1721933072.762844  226304 gpu_timer.cc:114] Skipping the delay kernel, measurement accuracy will be reduced\n",
      "W0000 00:00:1721933072.768705  226304 gpu_timer.cc:114] Skipping the delay kernel, measurement accuracy will be reduced\n",
      "W0000 00:00:1721933072.771772  226304 gpu_timer.cc:114] Skipping the delay kernel, measurement accuracy will be reduced\n",
      "W0000 00:00:1721933072.775226  226304 gpu_timer.cc:114] Skipping the delay kernel, measurement accuracy will be reduced\n",
      "W0000 00:00:1721933072.778312  226304 gpu_timer.cc:114] Skipping the delay kernel, measurement accuracy will be reduced\n",
      "W0000 00:00:1721933072.781468  226304 gpu_timer.cc:114] Skipping the delay kernel, measurement accuracy will be reduced\n",
      "W0000 00:00:1721933072.784420  226304 gpu_timer.cc:114] Skipping the delay kernel, measurement accuracy will be reduced\n",
      "W0000 00:00:1721933072.787180  226304 gpu_timer.cc:114] Skipping the delay kernel, measurement accuracy will be reduced\n",
      "W0000 00:00:1721933072.790280  226304 gpu_timer.cc:114] Skipping the delay kernel, measurement accuracy will be reduced\n",
      "W0000 00:00:1721933072.793448  226304 gpu_timer.cc:114] Skipping the delay kernel, measurement accuracy will be reduced\n",
      "W0000 00:00:1721933072.810855  226304 gpu_timer.cc:114] Skipping the delay kernel, measurement accuracy will be reduced\n",
      "W0000 00:00:1721933072.817037  226304 gpu_timer.cc:114] Skipping the delay kernel, measurement accuracy will be reduced\n",
      "W0000 00:00:1721933072.839521  226304 gpu_timer.cc:114] Skipping the delay kernel, measurement accuracy will be reduced\n",
      "W0000 00:00:1721933072.946522  226304 gpu_timer.cc:114] Skipping the delay kernel, measurement accuracy will be reduced\n",
      "W0000 00:00:1721933072.950321  226304 gpu_timer.cc:114] Skipping the delay kernel, measurement accuracy will be reduced\n",
      "W0000 00:00:1721933072.953102  226304 gpu_timer.cc:114] Skipping the delay kernel, measurement accuracy will be reduced\n",
      "W0000 00:00:1721933072.956151  226304 gpu_timer.cc:114] Skipping the delay kernel, measurement accuracy will be reduced\n",
      "W0000 00:00:1721933072.977089  226304 gpu_timer.cc:114] Skipping the delay kernel, measurement accuracy will be reduced\n",
      "W0000 00:00:1721933072.980011  226304 gpu_timer.cc:114] Skipping the delay kernel, measurement accuracy will be reduced\n",
      "W0000 00:00:1721933072.982985  226304 gpu_timer.cc:114] Skipping the delay kernel, measurement accuracy will be reduced\n",
      "W0000 00:00:1721933072.985661  226304 gpu_timer.cc:114] Skipping the delay kernel, measurement accuracy will be reduced\n",
      "W0000 00:00:1721933072.988314  226304 gpu_timer.cc:114] Skipping the delay kernel, measurement accuracy will be reduced\n",
      "W0000 00:00:1721933072.990951  226304 gpu_timer.cc:114] Skipping the delay kernel, measurement accuracy will be reduced\n",
      "W0000 00:00:1721933072.993606  226304 gpu_timer.cc:114] Skipping the delay kernel, measurement accuracy will be reduced\n",
      "W0000 00:00:1721933072.996367  226304 gpu_timer.cc:114] Skipping the delay kernel, measurement accuracy will be reduced\n",
      "W0000 00:00:1721933072.999038  226304 gpu_timer.cc:114] Skipping the delay kernel, measurement accuracy will be reduced\n",
      "W0000 00:00:1721933073.001871  226304 gpu_timer.cc:114] Skipping the delay kernel, measurement accuracy will be reduced\n",
      "W0000 00:00:1721933073.004493  226304 gpu_timer.cc:114] Skipping the delay kernel, measurement accuracy will be reduced\n",
      "W0000 00:00:1721933073.007181  226304 gpu_timer.cc:114] Skipping the delay kernel, measurement accuracy will be reduced\n",
      "W0000 00:00:1721933073.013519  226304 gpu_timer.cc:114] Skipping the delay kernel, measurement accuracy will be reduced\n"
     ]
    },
    {
     "name": "stdout",
     "output_type": "stream",
     "text": [
      "\u001b[1m1000/1000\u001b[0m \u001b[32m━━━━━━━━━━━━━━━━━━━━\u001b[0m\u001b[37m\u001b[0m \u001b[1m10s\u001b[0m 8ms/step - accuracy: 0.2289 - loss: 241.0291\n",
      "Loss:  148.37179565429688\n",
      "Accuracy:  0.39800000190734863\n"
     ]
    }
   ],
   "source": [
    "results = model.evaluate(\n",
    "    x=np.asarray(X_test),\n",
    "    y=np.asarray(y_test),\n",
    "    batch_size=1,\n",
    "    verbose=1\n",
    ")\n",
    "\n",
    "loss = results[0]\n",
    "accuracy = results[1]\n",
    "\n",
    "print(\"Loss: \", loss)\n",
    "print(\"Accuracy: \", accuracy)"
   ]
  },
  {
   "cell_type": "markdown",
   "metadata": {},
   "source": [
    "# Applying fine-tunning on dense layers\n",
    "\n",
    "* Training with new data"
   ]
  },
  {
   "cell_type": "code",
   "execution_count": 13,
   "metadata": {},
   "outputs": [
    {
     "data": {
      "text/html": [
       "<pre style=\"white-space:pre;overflow-x:auto;line-height:normal;font-family:Menlo,'DejaVu Sans Mono',consolas,'Courier New',monospace\"><span style=\"font-weight: bold\">Model: \"Cat_Dogs\"</span>\n",
       "</pre>\n"
      ],
      "text/plain": [
       "\u001b[1mModel: \"Cat_Dogs\"\u001b[0m\n"
      ]
     },
     "metadata": {},
     "output_type": "display_data"
    },
    {
     "data": {
      "text/html": [
       "<pre style=\"white-space:pre;overflow-x:auto;line-height:normal;font-family:Menlo,'DejaVu Sans Mono',consolas,'Courier New',monospace\">┏━━━━━━━━━━━━━━━━━━━━━━━━━━━━━┳━━━━━━━━━━━━━━━━━━━━━━━┳━━━━━━━━━━━━┳━━━━━━━┓\n",
       "┃<span style=\"font-weight: bold\"> Layer (type)                </span>┃<span style=\"font-weight: bold\"> Output Shape          </span>┃<span style=\"font-weight: bold\">    Param # </span>┃<span style=\"font-weight: bold\"> Trai… </span>┃\n",
       "┡━━━━━━━━━━━━━━━━━━━━━━━━━━━━━╇━━━━━━━━━━━━━━━━━━━━━━━╇━━━━━━━━━━━━╇━━━━━━━┩\n",
       "│ conv2d_2 (<span style=\"color: #0087ff; text-decoration-color: #0087ff\">Conv2D</span>)           │ (<span style=\"color: #00d7ff; text-decoration-color: #00d7ff\">None</span>, <span style=\"color: #00af00; text-decoration-color: #00af00\">64</span>, <span style=\"color: #00af00; text-decoration-color: #00af00\">64</span>, <span style=\"color: #00af00; text-decoration-color: #00af00\">32</span>)    │        <span style=\"color: #00af00; text-decoration-color: #00af00\">896</span> │   <span style=\"color: #ff0000; text-decoration-color: #ff0000; font-weight: bold\">N</span>   │\n",
       "├─────────────────────────────┼───────────────────────┼────────────┼───────┤\n",
       "│ batch_normalization_2       │ (<span style=\"color: #00d7ff; text-decoration-color: #00d7ff\">None</span>, <span style=\"color: #00af00; text-decoration-color: #00af00\">64</span>, <span style=\"color: #00af00; text-decoration-color: #00af00\">64</span>, <span style=\"color: #00af00; text-decoration-color: #00af00\">32</span>)    │        <span style=\"color: #00af00; text-decoration-color: #00af00\">128</span> │   <span style=\"color: #ff0000; text-decoration-color: #ff0000; font-weight: bold\">N</span>   │\n",
       "│ (<span style=\"color: #0087ff; text-decoration-color: #0087ff\">BatchNormalization</span>)        │                       │            │       │\n",
       "├─────────────────────────────┼───────────────────────┼────────────┼───────┤\n",
       "│ max_pooling2d_2             │ (<span style=\"color: #00d7ff; text-decoration-color: #00d7ff\">None</span>, <span style=\"color: #00af00; text-decoration-color: #00af00\">32</span>, <span style=\"color: #00af00; text-decoration-color: #00af00\">32</span>, <span style=\"color: #00af00; text-decoration-color: #00af00\">32</span>)    │          <span style=\"color: #00af00; text-decoration-color: #00af00\">0</span> │   <span style=\"font-weight: bold\">-</span>   │\n",
       "│ (<span style=\"color: #0087ff; text-decoration-color: #0087ff\">MaxPooling2D</span>)              │                       │            │       │\n",
       "├─────────────────────────────┼───────────────────────┼────────────┼───────┤\n",
       "│ conv2d_3 (<span style=\"color: #0087ff; text-decoration-color: #0087ff\">Conv2D</span>)           │ (<span style=\"color: #00d7ff; text-decoration-color: #00d7ff\">None</span>, <span style=\"color: #00af00; text-decoration-color: #00af00\">32</span>, <span style=\"color: #00af00; text-decoration-color: #00af00\">32</span>, <span style=\"color: #00af00; text-decoration-color: #00af00\">32</span>)    │     <span style=\"color: #00af00; text-decoration-color: #00af00\">16,416</span> │   <span style=\"color: #ff0000; text-decoration-color: #ff0000; font-weight: bold\">N</span>   │\n",
       "├─────────────────────────────┼───────────────────────┼────────────┼───────┤\n",
       "│ batch_normalization_3       │ (<span style=\"color: #00d7ff; text-decoration-color: #00d7ff\">None</span>, <span style=\"color: #00af00; text-decoration-color: #00af00\">32</span>, <span style=\"color: #00af00; text-decoration-color: #00af00\">32</span>, <span style=\"color: #00af00; text-decoration-color: #00af00\">32</span>)    │        <span style=\"color: #00af00; text-decoration-color: #00af00\">128</span> │   <span style=\"color: #ff0000; text-decoration-color: #ff0000; font-weight: bold\">N</span>   │\n",
       "│ (<span style=\"color: #0087ff; text-decoration-color: #0087ff\">BatchNormalization</span>)        │                       │            │       │\n",
       "├─────────────────────────────┼───────────────────────┼────────────┼───────┤\n",
       "│ max_pooling2d_3             │ (<span style=\"color: #00d7ff; text-decoration-color: #00d7ff\">None</span>, <span style=\"color: #00af00; text-decoration-color: #00af00\">16</span>, <span style=\"color: #00af00; text-decoration-color: #00af00\">16</span>, <span style=\"color: #00af00; text-decoration-color: #00af00\">32</span>)    │          <span style=\"color: #00af00; text-decoration-color: #00af00\">0</span> │   <span style=\"font-weight: bold\">-</span>   │\n",
       "│ (<span style=\"color: #0087ff; text-decoration-color: #0087ff\">MaxPooling2D</span>)              │                       │            │       │\n",
       "├─────────────────────────────┼───────────────────────┼────────────┼───────┤\n",
       "│ flatten_1 (<span style=\"color: #0087ff; text-decoration-color: #0087ff\">Flatten</span>)         │ (<span style=\"color: #00d7ff; text-decoration-color: #00d7ff\">None</span>, <span style=\"color: #00af00; text-decoration-color: #00af00\">8192</span>)          │          <span style=\"color: #00af00; text-decoration-color: #00af00\">0</span> │   <span style=\"font-weight: bold\">-</span>   │\n",
       "├─────────────────────────────┼───────────────────────┼────────────┼───────┤\n",
       "│ dense_3 (<span style=\"color: #0087ff; text-decoration-color: #0087ff\">Dense</span>)             │ (<span style=\"color: #00d7ff; text-decoration-color: #00d7ff\">None</span>, <span style=\"color: #00af00; text-decoration-color: #00af00\">128</span>)           │  <span style=\"color: #00af00; text-decoration-color: #00af00\">1,048,704</span> │   <span style=\"color: #00af00; text-decoration-color: #00af00; font-weight: bold\">Y</span>   │\n",
       "├─────────────────────────────┼───────────────────────┼────────────┼───────┤\n",
       "│ dropout_2 (<span style=\"color: #0087ff; text-decoration-color: #0087ff\">Dropout</span>)         │ (<span style=\"color: #00d7ff; text-decoration-color: #00d7ff\">None</span>, <span style=\"color: #00af00; text-decoration-color: #00af00\">128</span>)           │          <span style=\"color: #00af00; text-decoration-color: #00af00\">0</span> │   <span style=\"font-weight: bold\">-</span>   │\n",
       "├─────────────────────────────┼───────────────────────┼────────────┼───────┤\n",
       "│ dense_4 (<span style=\"color: #0087ff; text-decoration-color: #0087ff\">Dense</span>)             │ (<span style=\"color: #00d7ff; text-decoration-color: #00d7ff\">None</span>, <span style=\"color: #00af00; text-decoration-color: #00af00\">128</span>)           │     <span style=\"color: #00af00; text-decoration-color: #00af00\">16,512</span> │   <span style=\"color: #00af00; text-decoration-color: #00af00; font-weight: bold\">Y</span>   │\n",
       "├─────────────────────────────┼───────────────────────┼────────────┼───────┤\n",
       "│ dropout_3 (<span style=\"color: #0087ff; text-decoration-color: #0087ff\">Dropout</span>)         │ (<span style=\"color: #00d7ff; text-decoration-color: #00d7ff\">None</span>, <span style=\"color: #00af00; text-decoration-color: #00af00\">128</span>)           │          <span style=\"color: #00af00; text-decoration-color: #00af00\">0</span> │   <span style=\"font-weight: bold\">-</span>   │\n",
       "├─────────────────────────────┼───────────────────────┼────────────┼───────┤\n",
       "│ dense_5 (<span style=\"color: #0087ff; text-decoration-color: #0087ff\">Dense</span>)             │ (<span style=\"color: #00d7ff; text-decoration-color: #00d7ff\">None</span>, <span style=\"color: #00af00; text-decoration-color: #00af00\">1</span>)             │        <span style=\"color: #00af00; text-decoration-color: #00af00\">129</span> │   <span style=\"color: #00af00; text-decoration-color: #00af00; font-weight: bold\">Y</span>   │\n",
       "└─────────────────────────────┴───────────────────────┴────────────┴───────┘\n",
       "</pre>\n"
      ],
      "text/plain": [
       "┏━━━━━━━━━━━━━━━━━━━━━━━━━━━━━┳━━━━━━━━━━━━━━━━━━━━━━━┳━━━━━━━━━━━━┳━━━━━━━┓\n",
       "┃\u001b[1m \u001b[0m\u001b[1mLayer (type)               \u001b[0m\u001b[1m \u001b[0m┃\u001b[1m \u001b[0m\u001b[1mOutput Shape         \u001b[0m\u001b[1m \u001b[0m┃\u001b[1m \u001b[0m\u001b[1m   Param #\u001b[0m\u001b[1m \u001b[0m┃\u001b[1m \u001b[0m\u001b[1mTrai…\u001b[0m\u001b[1m \u001b[0m┃\n",
       "┡━━━━━━━━━━━━━━━━━━━━━━━━━━━━━╇━━━━━━━━━━━━━━━━━━━━━━━╇━━━━━━━━━━━━╇━━━━━━━┩\n",
       "│ conv2d_2 (\u001b[38;5;33mConv2D\u001b[0m)           │ (\u001b[38;5;45mNone\u001b[0m, \u001b[38;5;34m64\u001b[0m, \u001b[38;5;34m64\u001b[0m, \u001b[38;5;34m32\u001b[0m)    │        \u001b[38;5;34m896\u001b[0m │   \u001b[1;91mN\u001b[0m   │\n",
       "├─────────────────────────────┼───────────────────────┼────────────┼───────┤\n",
       "│ batch_normalization_2       │ (\u001b[38;5;45mNone\u001b[0m, \u001b[38;5;34m64\u001b[0m, \u001b[38;5;34m64\u001b[0m, \u001b[38;5;34m32\u001b[0m)    │        \u001b[38;5;34m128\u001b[0m │   \u001b[1;91mN\u001b[0m   │\n",
       "│ (\u001b[38;5;33mBatchNormalization\u001b[0m)        │                       │            │       │\n",
       "├─────────────────────────────┼───────────────────────┼────────────┼───────┤\n",
       "│ max_pooling2d_2             │ (\u001b[38;5;45mNone\u001b[0m, \u001b[38;5;34m32\u001b[0m, \u001b[38;5;34m32\u001b[0m, \u001b[38;5;34m32\u001b[0m)    │          \u001b[38;5;34m0\u001b[0m │   \u001b[1m-\u001b[0m   │\n",
       "│ (\u001b[38;5;33mMaxPooling2D\u001b[0m)              │                       │            │       │\n",
       "├─────────────────────────────┼───────────────────────┼────────────┼───────┤\n",
       "│ conv2d_3 (\u001b[38;5;33mConv2D\u001b[0m)           │ (\u001b[38;5;45mNone\u001b[0m, \u001b[38;5;34m32\u001b[0m, \u001b[38;5;34m32\u001b[0m, \u001b[38;5;34m32\u001b[0m)    │     \u001b[38;5;34m16,416\u001b[0m │   \u001b[1;91mN\u001b[0m   │\n",
       "├─────────────────────────────┼───────────────────────┼────────────┼───────┤\n",
       "│ batch_normalization_3       │ (\u001b[38;5;45mNone\u001b[0m, \u001b[38;5;34m32\u001b[0m, \u001b[38;5;34m32\u001b[0m, \u001b[38;5;34m32\u001b[0m)    │        \u001b[38;5;34m128\u001b[0m │   \u001b[1;91mN\u001b[0m   │\n",
       "│ (\u001b[38;5;33mBatchNormalization\u001b[0m)        │                       │            │       │\n",
       "├─────────────────────────────┼───────────────────────┼────────────┼───────┤\n",
       "│ max_pooling2d_3             │ (\u001b[38;5;45mNone\u001b[0m, \u001b[38;5;34m16\u001b[0m, \u001b[38;5;34m16\u001b[0m, \u001b[38;5;34m32\u001b[0m)    │          \u001b[38;5;34m0\u001b[0m │   \u001b[1m-\u001b[0m   │\n",
       "│ (\u001b[38;5;33mMaxPooling2D\u001b[0m)              │                       │            │       │\n",
       "├─────────────────────────────┼───────────────────────┼────────────┼───────┤\n",
       "│ flatten_1 (\u001b[38;5;33mFlatten\u001b[0m)         │ (\u001b[38;5;45mNone\u001b[0m, \u001b[38;5;34m8192\u001b[0m)          │          \u001b[38;5;34m0\u001b[0m │   \u001b[1m-\u001b[0m   │\n",
       "├─────────────────────────────┼───────────────────────┼────────────┼───────┤\n",
       "│ dense_3 (\u001b[38;5;33mDense\u001b[0m)             │ (\u001b[38;5;45mNone\u001b[0m, \u001b[38;5;34m128\u001b[0m)           │  \u001b[38;5;34m1,048,704\u001b[0m │   \u001b[1;38;5;34mY\u001b[0m   │\n",
       "├─────────────────────────────┼───────────────────────┼────────────┼───────┤\n",
       "│ dropout_2 (\u001b[38;5;33mDropout\u001b[0m)         │ (\u001b[38;5;45mNone\u001b[0m, \u001b[38;5;34m128\u001b[0m)           │          \u001b[38;5;34m0\u001b[0m │   \u001b[1m-\u001b[0m   │\n",
       "├─────────────────────────────┼───────────────────────┼────────────┼───────┤\n",
       "│ dense_4 (\u001b[38;5;33mDense\u001b[0m)             │ (\u001b[38;5;45mNone\u001b[0m, \u001b[38;5;34m128\u001b[0m)           │     \u001b[38;5;34m16,512\u001b[0m │   \u001b[1;38;5;34mY\u001b[0m   │\n",
       "├─────────────────────────────┼───────────────────────┼────────────┼───────┤\n",
       "│ dropout_3 (\u001b[38;5;33mDropout\u001b[0m)         │ (\u001b[38;5;45mNone\u001b[0m, \u001b[38;5;34m128\u001b[0m)           │          \u001b[38;5;34m0\u001b[0m │   \u001b[1m-\u001b[0m   │\n",
       "├─────────────────────────────┼───────────────────────┼────────────┼───────┤\n",
       "│ dense_5 (\u001b[38;5;33mDense\u001b[0m)             │ (\u001b[38;5;45mNone\u001b[0m, \u001b[38;5;34m1\u001b[0m)             │        \u001b[38;5;34m129\u001b[0m │   \u001b[1;38;5;34mY\u001b[0m   │\n",
       "└─────────────────────────────┴───────────────────────┴────────────┴───────┘\n"
      ]
     },
     "metadata": {},
     "output_type": "display_data"
    },
    {
     "data": {
      "text/html": [
       "<pre style=\"white-space:pre;overflow-x:auto;line-height:normal;font-family:Menlo,'DejaVu Sans Mono',consolas,'Courier New',monospace\"><span style=\"font-weight: bold\"> Total params: </span><span style=\"color: #00af00; text-decoration-color: #00af00\">3,248,485</span> (12.39 MB)\n",
       "</pre>\n"
      ],
      "text/plain": [
       "\u001b[1m Total params: \u001b[0m\u001b[38;5;34m3,248,485\u001b[0m (12.39 MB)\n"
      ]
     },
     "metadata": {},
     "output_type": "display_data"
    },
    {
     "data": {
      "text/html": [
       "<pre style=\"white-space:pre;overflow-x:auto;line-height:normal;font-family:Menlo,'DejaVu Sans Mono',consolas,'Courier New',monospace\"><span style=\"font-weight: bold\"> Trainable params: </span><span style=\"color: #00af00; text-decoration-color: #00af00\">0</span> (0.00 B)\n",
       "</pre>\n"
      ],
      "text/plain": [
       "\u001b[1m Trainable params: \u001b[0m\u001b[38;5;34m0\u001b[0m (0.00 B)\n"
      ]
     },
     "metadata": {},
     "output_type": "display_data"
    },
    {
     "data": {
      "text/html": [
       "<pre style=\"white-space:pre;overflow-x:auto;line-height:normal;font-family:Menlo,'DejaVu Sans Mono',consolas,'Courier New',monospace\"><span style=\"font-weight: bold\"> Non-trainable params: </span><span style=\"color: #00af00; text-decoration-color: #00af00\">1,082,913</span> (4.13 MB)\n",
       "</pre>\n"
      ],
      "text/plain": [
       "\u001b[1m Non-trainable params: \u001b[0m\u001b[38;5;34m1,082,913\u001b[0m (4.13 MB)\n"
      ]
     },
     "metadata": {},
     "output_type": "display_data"
    },
    {
     "data": {
      "text/html": [
       "<pre style=\"white-space:pre;overflow-x:auto;line-height:normal;font-family:Menlo,'DejaVu Sans Mono',consolas,'Courier New',monospace\"><span style=\"font-weight: bold\"> Optimizer params: </span><span style=\"color: #00af00; text-decoration-color: #00af00\">2,165,572</span> (8.26 MB)\n",
       "</pre>\n"
      ],
      "text/plain": [
       "\u001b[1m Optimizer params: \u001b[0m\u001b[38;5;34m2,165,572\u001b[0m (8.26 MB)\n"
      ]
     },
     "metadata": {},
     "output_type": "display_data"
    }
   ],
   "source": [
    "# Unfreeze dense layers\n",
    "for layer in model.layers:\n",
    "    if 'dense' in layer.name:\n",
    "        layer.trainable = True\n",
    "\n",
    "model.summary(\n",
    "    show_trainable=True\n",
    ")"
   ]
  },
  {
   "cell_type": "code",
   "execution_count": 14,
   "metadata": {},
   "outputs": [
    {
     "name": "stdout",
     "output_type": "stream",
     "text": [
      "K = 1 --> Fitting\n"
     ]
    },
    {
     "name": "stderr",
     "output_type": "stream",
     "text": [
      "/home/jassy/repos/machine-learning/env/lib/python3.10/site-packages/keras/src/backend/tensorflow/trainer.py:75: UserWarning: The model does not have any trainable weights.\n",
      "  warnings.warn(\"The model does not have any trainable weights.\")\n",
      "W0000 00:00:1721933082.540636  226303 gpu_timer.cc:114] Skipping the delay kernel, measurement accuracy will be reduced\n",
      "W0000 00:00:1721933082.544368  226303 gpu_timer.cc:114] Skipping the delay kernel, measurement accuracy will be reduced\n",
      "W0000 00:00:1721933082.547927  226303 gpu_timer.cc:114] Skipping the delay kernel, measurement accuracy will be reduced\n",
      "W0000 00:00:1721933082.551549  226303 gpu_timer.cc:114] Skipping the delay kernel, measurement accuracy will be reduced\n",
      "W0000 00:00:1721933082.555416  226303 gpu_timer.cc:114] Skipping the delay kernel, measurement accuracy will be reduced\n",
      "W0000 00:00:1721933082.559489  226303 gpu_timer.cc:114] Skipping the delay kernel, measurement accuracy will be reduced\n",
      "W0000 00:00:1721933082.564188  226303 gpu_timer.cc:114] Skipping the delay kernel, measurement accuracy will be reduced\n",
      "W0000 00:00:1721933082.567621  226303 gpu_timer.cc:114] Skipping the delay kernel, measurement accuracy will be reduced\n",
      "W0000 00:00:1721933082.571361  226303 gpu_timer.cc:114] Skipping the delay kernel, measurement accuracy will be reduced\n",
      "W0000 00:00:1721933082.575289  226303 gpu_timer.cc:114] Skipping the delay kernel, measurement accuracy will be reduced\n",
      "W0000 00:00:1721933082.579406  226303 gpu_timer.cc:114] Skipping the delay kernel, measurement accuracy will be reduced\n",
      "W0000 00:00:1721933082.583605  226303 gpu_timer.cc:114] Skipping the delay kernel, measurement accuracy will be reduced\n",
      "W0000 00:00:1721933082.587205  226303 gpu_timer.cc:114] Skipping the delay kernel, measurement accuracy will be reduced\n",
      "W0000 00:00:1721933082.590841  226303 gpu_timer.cc:114] Skipping the delay kernel, measurement accuracy will be reduced\n",
      "W0000 00:00:1721933082.597604  226303 gpu_timer.cc:114] Skipping the delay kernel, measurement accuracy will be reduced\n",
      "W0000 00:00:1721933082.602016  226303 gpu_timer.cc:114] Skipping the delay kernel, measurement accuracy will be reduced\n",
      "W0000 00:00:1721933082.617584  226303 gpu_timer.cc:114] Skipping the delay kernel, measurement accuracy will be reduced\n",
      "W0000 00:00:1721933082.622101  226303 gpu_timer.cc:114] Skipping the delay kernel, measurement accuracy will be reduced\n",
      "W0000 00:00:1721933082.648454  226303 gpu_timer.cc:114] Skipping the delay kernel, measurement accuracy will be reduced\n",
      "W0000 00:00:1721933082.656140  226303 gpu_timer.cc:114] Skipping the delay kernel, measurement accuracy will be reduced\n",
      "W0000 00:00:1721933082.660226  226303 gpu_timer.cc:114] Skipping the delay kernel, measurement accuracy will be reduced\n",
      "W0000 00:00:1721933082.663637  226303 gpu_timer.cc:114] Skipping the delay kernel, measurement accuracy will be reduced\n",
      "W0000 00:00:1721933082.667108  226303 gpu_timer.cc:114] Skipping the delay kernel, measurement accuracy will be reduced\n",
      "W0000 00:00:1721933082.670708  226303 gpu_timer.cc:114] Skipping the delay kernel, measurement accuracy will be reduced\n",
      "W0000 00:00:1721933082.674824  226303 gpu_timer.cc:114] Skipping the delay kernel, measurement accuracy will be reduced\n",
      "W0000 00:00:1721933082.678301  226303 gpu_timer.cc:114] Skipping the delay kernel, measurement accuracy will be reduced\n",
      "W0000 00:00:1721933082.682066  226303 gpu_timer.cc:114] Skipping the delay kernel, measurement accuracy will be reduced\n",
      "W0000 00:00:1721933082.686084  226303 gpu_timer.cc:114] Skipping the delay kernel, measurement accuracy will be reduced\n",
      "W0000 00:00:1721933082.689760  226303 gpu_timer.cc:114] Skipping the delay kernel, measurement accuracy will be reduced\n",
      "W0000 00:00:1721933082.693639  226303 gpu_timer.cc:114] Skipping the delay kernel, measurement accuracy will be reduced\n",
      "W0000 00:00:1721933082.698169  226303 gpu_timer.cc:114] Skipping the delay kernel, measurement accuracy will be reduced\n",
      "W0000 00:00:1721933082.703803  226303 gpu_timer.cc:114] Skipping the delay kernel, measurement accuracy will be reduced\n",
      "W0000 00:00:1721933082.709912  226303 gpu_timer.cc:114] Skipping the delay kernel, measurement accuracy will be reduced\n",
      "W0000 00:00:1721933082.715183  226303 gpu_timer.cc:114] Skipping the delay kernel, measurement accuracy will be reduced\n",
      "W0000 00:00:1721933082.720094  226303 gpu_timer.cc:114] Skipping the delay kernel, measurement accuracy will be reduced\n"
     ]
    },
    {
     "name": "stdout",
     "output_type": "stream",
     "text": [
      "K = 1 (162.09s) --> Acc: 0.372 | Loss: 1.153\n",
      "K = 2 --> Fitting\n",
      "K = 2 (183.12s) --> Acc: 0.373 | Loss: 1.136\n",
      "K = 3 --> Fitting\n",
      "K = 3 (160.6s) --> Acc: 0.375 | Loss: 1.14\n",
      "K = 4 --> Fitting\n",
      "K = 4 (155.0s) --> Acc: 0.375 | Loss: 1.151\n",
      "K = 5 --> Fitting\n",
      "K = 5 (154.72s) --> Acc: 0.367 | Loss: 1.163\n"
     ]
    }
   ],
   "source": [
    "import time\n",
    "\n",
    "K = 5\n",
    "kflod = StratifiedKFold(n_splits=K, shuffle=True)\n",
    "\n",
    "results = []\n",
    "index = 0\n",
    "for train_index, test_index in kflod.split(X=X_train_processed_shuffle, y=y_train_shuffle):\n",
    "    train = X_train_processed_shuffle[train_index]\n",
    "    train_label = y_train_shuffle[train_index]\n",
    "\n",
    "    test = (X_train_processed_shuffle[test_index], y_train_shuffle[test_index])\n",
    "\n",
    "    now = time.time()\n",
    "    print(f\"K = {index+1} --> Fitting\")\n",
    "    result = model.fit(\n",
    "        x=train,\n",
    "        y=train_label,\n",
    "        batch_size=32,\n",
    "        epochs=100,\n",
    "        validation_data=test,\n",
    "        verbose=0\n",
    "    )\n",
    "\n",
    "    print(f\"K = {index+1} ({round(time.time() - now,2)}s) --> Acc: {round(np.mean(result.history['accuracy']), 3)} | Loss: {round(np.mean(result.history['loss']), 3)}\")\n",
    "    index += 1\n",
    "    results.append(result)"
   ]
  },
  {
   "cell_type": "code",
   "execution_count": 15,
   "metadata": {},
   "outputs": [
    {
     "name": "stdout",
     "output_type": "stream",
     "text": [
      "Treino - Acurácia média:\t 0.3725631246566773\n",
      "Treino - Cusot médio:\t 1.1483631553649905\n",
      "Teste - Acurácia média:\t 0.35850000381469727\n",
      "Teste - Cusot médio:\t 1.1148226976394653\n"
     ]
    },
    {
     "name": "stderr",
     "output_type": "stream",
     "text": [
      "/tmp/ipykernel_225970/3667198355.py:28: UserWarning: No artists with labels found to put in legend.  Note that artists whose label start with an underscore are ignored when legend() is called with no argument.\n",
      "  ax1.legend()\n",
      "/tmp/ipykernel_225970/3667198355.py:29: UserWarning: No artists with labels found to put in legend.  Note that artists whose label start with an underscore are ignored when legend() is called with no argument.\n",
      "  ax2.legend()\n",
      "/tmp/ipykernel_225970/3667198355.py:30: UserWarning: No artists with labels found to put in legend.  Note that artists whose label start with an underscore are ignored when legend() is called with no argument.\n",
      "  ax3.legend()\n",
      "/tmp/ipykernel_225970/3667198355.py:31: UserWarning: No artists with labels found to put in legend.  Note that artists whose label start with an underscore are ignored when legend() is called with no argument.\n",
      "  ax4.legend()\n"
     ]
    },
    {
     "data": {
      "image/png": "[encoded data removed]",
      "text/plain": [
       "<Figure size 1000x1000 with 4 Axes>"
      ]
     },
     "metadata": {},
     "output_type": "display_data"
    }
   ],
   "source": [
    "fig, ((ax1, ax2), (ax3, ax4)) = plt.subplots(\n",
    "    figsize=(10, 10),\n",
    "    ncols=2,\n",
    "    nrows=2\n",
    ")\n",
    "\n",
    "ax1.set_title(\"Treino - Acurácia\")\n",
    "ax2.set_title(\"Treino - Custo\")\n",
    "ax3.set_title(\"Teste  - Acurácia\")\n",
    "ax4.set_title(\"Teste  - Custo\")\n",
    "\n",
    "train_acc = [np.mean(item.history['accuracy']) for item in results]\n",
    "train_loss = [np.mean(item.history['loss']) for item in results]\n",
    "test_acc = [np.mean(item.history['val_accuracy']) for item in results]\n",
    "test_loss = [np.mean(item.history['val_loss']) for item in results]\n",
    "\n",
    "print(\"Treino - Acurácia média:\\t\", np.mean(train_acc))\n",
    "print(\"Treino - Cusot médio:\\t\", np.mean(train_loss))\n",
    "\n",
    "print(\"Teste - Acurácia média:\\t\", np.mean(test_acc))\n",
    "print(\"Teste - Cusot médio:\\t\", np.mean(test_loss))\n",
    "\n",
    "ax1.plot(train_acc)\n",
    "ax2.plot(train_loss)\n",
    "ax3.plot(test_acc)\n",
    "ax4.plot(test_loss)\n",
    "\n",
    "ax1.legend()\n",
    "ax2.legend()\n",
    "ax3.legend()\n",
    "ax4.legend()\n",
    "\n",
    "plt.show()"
   ]
  },
  {
   "cell_type": "markdown",
   "metadata": {},
   "source": [
    "# Applying fine-tunning with new dense layers"
   ]
  },
  {
   "cell_type": "code",
   "execution_count": 16,
   "metadata": {},
   "outputs": [
    {
     "data": {
      "text/html": [
       "<pre style=\"white-space:pre;overflow-x:auto;line-height:normal;font-family:Menlo,'DejaVu Sans Mono',consolas,'Courier New',monospace\"><span style=\"font-weight: bold\">Model: \"Cat_Dogs\"</span>\n",
       "</pre>\n"
      ],
      "text/plain": [
       "\u001b[1mModel: \"Cat_Dogs\"\u001b[0m\n"
      ]
     },
     "metadata": {},
     "output_type": "display_data"
    },
    {
     "data": {
      "text/html": [
       "<pre style=\"white-space:pre;overflow-x:auto;line-height:normal;font-family:Menlo,'DejaVu Sans Mono',consolas,'Courier New',monospace\">┏━━━━━━━━━━━━━━━━━━━━━━━━━━━━━┳━━━━━━━━━━━━━━━━━━━━━━━┳━━━━━━━━━━━━┳━━━━━━━┓\n",
       "┃<span style=\"font-weight: bold\"> Layer (type)                </span>┃<span style=\"font-weight: bold\"> Output Shape          </span>┃<span style=\"font-weight: bold\">    Param # </span>┃<span style=\"font-weight: bold\"> Trai… </span>┃\n",
       "┡━━━━━━━━━━━━━━━━━━━━━━━━━━━━━╇━━━━━━━━━━━━━━━━━━━━━━━╇━━━━━━━━━━━━╇━━━━━━━┩\n",
       "│ conv2d_2 (<span style=\"color: #0087ff; text-decoration-color: #0087ff\">Conv2D</span>)           │ (<span style=\"color: #00d7ff; text-decoration-color: #00d7ff\">None</span>, <span style=\"color: #00af00; text-decoration-color: #00af00\">64</span>, <span style=\"color: #00af00; text-decoration-color: #00af00\">64</span>, <span style=\"color: #00af00; text-decoration-color: #00af00\">32</span>)    │        <span style=\"color: #00af00; text-decoration-color: #00af00\">896</span> │   <span style=\"color: #ff0000; text-decoration-color: #ff0000; font-weight: bold\">N</span>   │\n",
       "├─────────────────────────────┼───────────────────────┼────────────┼───────┤\n",
       "│ batch_normalization_2       │ (<span style=\"color: #00d7ff; text-decoration-color: #00d7ff\">None</span>, <span style=\"color: #00af00; text-decoration-color: #00af00\">64</span>, <span style=\"color: #00af00; text-decoration-color: #00af00\">64</span>, <span style=\"color: #00af00; text-decoration-color: #00af00\">32</span>)    │        <span style=\"color: #00af00; text-decoration-color: #00af00\">128</span> │   <span style=\"color: #ff0000; text-decoration-color: #ff0000; font-weight: bold\">N</span>   │\n",
       "│ (<span style=\"color: #0087ff; text-decoration-color: #0087ff\">BatchNormalization</span>)        │                       │            │       │\n",
       "├─────────────────────────────┼───────────────────────┼────────────┼───────┤\n",
       "│ max_pooling2d_2             │ (<span style=\"color: #00d7ff; text-decoration-color: #00d7ff\">None</span>, <span style=\"color: #00af00; text-decoration-color: #00af00\">32</span>, <span style=\"color: #00af00; text-decoration-color: #00af00\">32</span>, <span style=\"color: #00af00; text-decoration-color: #00af00\">32</span>)    │          <span style=\"color: #00af00; text-decoration-color: #00af00\">0</span> │   <span style=\"font-weight: bold\">-</span>   │\n",
       "│ (<span style=\"color: #0087ff; text-decoration-color: #0087ff\">MaxPooling2D</span>)              │                       │            │       │\n",
       "├─────────────────────────────┼───────────────────────┼────────────┼───────┤\n",
       "│ conv2d_3 (<span style=\"color: #0087ff; text-decoration-color: #0087ff\">Conv2D</span>)           │ (<span style=\"color: #00d7ff; text-decoration-color: #00d7ff\">None</span>, <span style=\"color: #00af00; text-decoration-color: #00af00\">32</span>, <span style=\"color: #00af00; text-decoration-color: #00af00\">32</span>, <span style=\"color: #00af00; text-decoration-color: #00af00\">32</span>)    │     <span style=\"color: #00af00; text-decoration-color: #00af00\">16,416</span> │   <span style=\"color: #ff0000; text-decoration-color: #ff0000; font-weight: bold\">N</span>   │\n",
       "├─────────────────────────────┼───────────────────────┼────────────┼───────┤\n",
       "│ batch_normalization_3       │ (<span style=\"color: #00d7ff; text-decoration-color: #00d7ff\">None</span>, <span style=\"color: #00af00; text-decoration-color: #00af00\">32</span>, <span style=\"color: #00af00; text-decoration-color: #00af00\">32</span>, <span style=\"color: #00af00; text-decoration-color: #00af00\">32</span>)    │        <span style=\"color: #00af00; text-decoration-color: #00af00\">128</span> │   <span style=\"color: #ff0000; text-decoration-color: #ff0000; font-weight: bold\">N</span>   │\n",
       "│ (<span style=\"color: #0087ff; text-decoration-color: #0087ff\">BatchNormalization</span>)        │                       │            │       │\n",
       "├─────────────────────────────┼───────────────────────┼────────────┼───────┤\n",
       "│ max_pooling2d_3             │ (<span style=\"color: #00d7ff; text-decoration-color: #00d7ff\">None</span>, <span style=\"color: #00af00; text-decoration-color: #00af00\">16</span>, <span style=\"color: #00af00; text-decoration-color: #00af00\">16</span>, <span style=\"color: #00af00; text-decoration-color: #00af00\">32</span>)    │          <span style=\"color: #00af00; text-decoration-color: #00af00\">0</span> │   <span style=\"font-weight: bold\">-</span>   │\n",
       "│ (<span style=\"color: #0087ff; text-decoration-color: #0087ff\">MaxPooling2D</span>)              │                       │            │       │\n",
       "├─────────────────────────────┼───────────────────────┼────────────┼───────┤\n",
       "│ flatten_1 (<span style=\"color: #0087ff; text-decoration-color: #0087ff\">Flatten</span>)         │ (<span style=\"color: #00d7ff; text-decoration-color: #00d7ff\">None</span>, <span style=\"color: #00af00; text-decoration-color: #00af00\">8192</span>)          │          <span style=\"color: #00af00; text-decoration-color: #00af00\">0</span> │   <span style=\"font-weight: bold\">-</span>   │\n",
       "├─────────────────────────────┼───────────────────────┼────────────┼───────┤\n",
       "│ dense_3 (<span style=\"color: #0087ff; text-decoration-color: #0087ff\">Dense</span>)             │ (<span style=\"color: #00d7ff; text-decoration-color: #00d7ff\">None</span>, <span style=\"color: #00af00; text-decoration-color: #00af00\">128</span>)           │  <span style=\"color: #00af00; text-decoration-color: #00af00\">1,048,704</span> │   <span style=\"color: #00af00; text-decoration-color: #00af00; font-weight: bold\">Y</span>   │\n",
       "├─────────────────────────────┼───────────────────────┼────────────┼───────┤\n",
       "│ dropout_2 (<span style=\"color: #0087ff; text-decoration-color: #0087ff\">Dropout</span>)         │ (<span style=\"color: #00d7ff; text-decoration-color: #00d7ff\">None</span>, <span style=\"color: #00af00; text-decoration-color: #00af00\">128</span>)           │          <span style=\"color: #00af00; text-decoration-color: #00af00\">0</span> │   <span style=\"font-weight: bold\">-</span>   │\n",
       "├─────────────────────────────┼───────────────────────┼────────────┼───────┤\n",
       "│ dense_4 (<span style=\"color: #0087ff; text-decoration-color: #0087ff\">Dense</span>)             │ (<span style=\"color: #00d7ff; text-decoration-color: #00d7ff\">None</span>, <span style=\"color: #00af00; text-decoration-color: #00af00\">128</span>)           │     <span style=\"color: #00af00; text-decoration-color: #00af00\">16,512</span> │   <span style=\"color: #00af00; text-decoration-color: #00af00; font-weight: bold\">Y</span>   │\n",
       "├─────────────────────────────┼───────────────────────┼────────────┼───────┤\n",
       "│ dropout_3 (<span style=\"color: #0087ff; text-decoration-color: #0087ff\">Dropout</span>)         │ (<span style=\"color: #00d7ff; text-decoration-color: #00d7ff\">None</span>, <span style=\"color: #00af00; text-decoration-color: #00af00\">128</span>)           │          <span style=\"color: #00af00; text-decoration-color: #00af00\">0</span> │   <span style=\"font-weight: bold\">-</span>   │\n",
       "├─────────────────────────────┼───────────────────────┼────────────┼───────┤\n",
       "│ dense_5 (<span style=\"color: #0087ff; text-decoration-color: #0087ff\">Dense</span>)             │ (<span style=\"color: #00d7ff; text-decoration-color: #00d7ff\">None</span>, <span style=\"color: #00af00; text-decoration-color: #00af00\">1</span>)             │        <span style=\"color: #00af00; text-decoration-color: #00af00\">129</span> │   <span style=\"color: #00af00; text-decoration-color: #00af00; font-weight: bold\">Y</span>   │\n",
       "└─────────────────────────────┴───────────────────────┴────────────┴───────┘\n",
       "</pre>\n"
      ],
      "text/plain": [
       "┏━━━━━━━━━━━━━━━━━━━━━━━━━━━━━┳━━━━━━━━━━━━━━━━━━━━━━━┳━━━━━━━━━━━━┳━━━━━━━┓\n",
       "┃\u001b[1m \u001b[0m\u001b[1mLayer (type)               \u001b[0m\u001b[1m \u001b[0m┃\u001b[1m \u001b[0m\u001b[1mOutput Shape         \u001b[0m\u001b[1m \u001b[0m┃\u001b[1m \u001b[0m\u001b[1m   Param #\u001b[0m\u001b[1m \u001b[0m┃\u001b[1m \u001b[0m\u001b[1mTrai…\u001b[0m\u001b[1m \u001b[0m┃\n",
       "┡━━━━━━━━━━━━━━━━━━━━━━━━━━━━━╇━━━━━━━━━━━━━━━━━━━━━━━╇━━━━━━━━━━━━╇━━━━━━━┩\n",
       "│ conv2d_2 (\u001b[38;5;33mConv2D\u001b[0m)           │ (\u001b[38;5;45mNone\u001b[0m, \u001b[38;5;34m64\u001b[0m, \u001b[38;5;34m64\u001b[0m, \u001b[38;5;34m32\u001b[0m)    │        \u001b[38;5;34m896\u001b[0m │   \u001b[1;91mN\u001b[0m   │\n",
       "├─────────────────────────────┼───────────────────────┼────────────┼───────┤\n",
       "│ batch_normalization_2       │ (\u001b[38;5;45mNone\u001b[0m, \u001b[38;5;34m64\u001b[0m, \u001b[38;5;34m64\u001b[0m, \u001b[38;5;34m32\u001b[0m)    │        \u001b[38;5;34m128\u001b[0m │   \u001b[1;91mN\u001b[0m   │\n",
       "│ (\u001b[38;5;33mBatchNormalization\u001b[0m)        │                       │            │       │\n",
       "├─────────────────────────────┼───────────────────────┼────────────┼───────┤\n",
       "│ max_pooling2d_2             │ (\u001b[38;5;45mNone\u001b[0m, \u001b[38;5;34m32\u001b[0m, \u001b[38;5;34m32\u001b[0m, \u001b[38;5;34m32\u001b[0m)    │          \u001b[38;5;34m0\u001b[0m │   \u001b[1m-\u001b[0m   │\n",
       "│ (\u001b[38;5;33mMaxPooling2D\u001b[0m)              │                       │            │       │\n",
       "├─────────────────────────────┼───────────────────────┼────────────┼───────┤\n",
       "│ conv2d_3 (\u001b[38;5;33mConv2D\u001b[0m)           │ (\u001b[38;5;45mNone\u001b[0m, \u001b[38;5;34m32\u001b[0m, \u001b[38;5;34m32\u001b[0m, \u001b[38;5;34m32\u001b[0m)    │     \u001b[38;5;34m16,416\u001b[0m │   \u001b[1;91mN\u001b[0m   │\n",
       "├─────────────────────────────┼───────────────────────┼────────────┼───────┤\n",
       "│ batch_normalization_3       │ (\u001b[38;5;45mNone\u001b[0m, \u001b[38;5;34m32\u001b[0m, \u001b[38;5;34m32\u001b[0m, \u001b[38;5;34m32\u001b[0m)    │        \u001b[38;5;34m128\u001b[0m │   \u001b[1;91mN\u001b[0m   │\n",
       "│ (\u001b[38;5;33mBatchNormalization\u001b[0m)        │                       │            │       │\n",
       "├─────────────────────────────┼───────────────────────┼────────────┼───────┤\n",
       "│ max_pooling2d_3             │ (\u001b[38;5;45mNone\u001b[0m, \u001b[38;5;34m16\u001b[0m, \u001b[38;5;34m16\u001b[0m, \u001b[38;5;34m32\u001b[0m)    │          \u001b[38;5;34m0\u001b[0m │   \u001b[1m-\u001b[0m   │\n",
       "│ (\u001b[38;5;33mMaxPooling2D\u001b[0m)              │                       │            │       │\n",
       "├─────────────────────────────┼───────────────────────┼────────────┼───────┤\n",
       "│ flatten_1 (\u001b[38;5;33mFlatten\u001b[0m)         │ (\u001b[38;5;45mNone\u001b[0m, \u001b[38;5;34m8192\u001b[0m)          │          \u001b[38;5;34m0\u001b[0m │   \u001b[1m-\u001b[0m   │\n",
       "├─────────────────────────────┼───────────────────────┼────────────┼───────┤\n",
       "│ dense_3 (\u001b[38;5;33mDense\u001b[0m)             │ (\u001b[38;5;45mNone\u001b[0m, \u001b[38;5;34m128\u001b[0m)           │  \u001b[38;5;34m1,048,704\u001b[0m │   \u001b[1;38;5;34mY\u001b[0m   │\n",
       "├─────────────────────────────┼───────────────────────┼────────────┼───────┤\n",
       "│ dropout_2 (\u001b[38;5;33mDropout\u001b[0m)         │ (\u001b[38;5;45mNone\u001b[0m, \u001b[38;5;34m128\u001b[0m)           │          \u001b[38;5;34m0\u001b[0m │   \u001b[1m-\u001b[0m   │\n",
       "├─────────────────────────────┼───────────────────────┼────────────┼───────┤\n",
       "│ dense_4 (\u001b[38;5;33mDense\u001b[0m)             │ (\u001b[38;5;45mNone\u001b[0m, \u001b[38;5;34m128\u001b[0m)           │     \u001b[38;5;34m16,512\u001b[0m │   \u001b[1;38;5;34mY\u001b[0m   │\n",
       "├─────────────────────────────┼───────────────────────┼────────────┼───────┤\n",
       "│ dropout_3 (\u001b[38;5;33mDropout\u001b[0m)         │ (\u001b[38;5;45mNone\u001b[0m, \u001b[38;5;34m128\u001b[0m)           │          \u001b[38;5;34m0\u001b[0m │   \u001b[1m-\u001b[0m   │\n",
       "├─────────────────────────────┼───────────────────────┼────────────┼───────┤\n",
       "│ dense_5 (\u001b[38;5;33mDense\u001b[0m)             │ (\u001b[38;5;45mNone\u001b[0m, \u001b[38;5;34m1\u001b[0m)             │        \u001b[38;5;34m129\u001b[0m │   \u001b[1;38;5;34mY\u001b[0m   │\n",
       "└─────────────────────────────┴───────────────────────┴────────────┴───────┘\n"
      ]
     },
     "metadata": {},
     "output_type": "display_data"
    },
    {
     "data": {
      "text/html": [
       "<pre style=\"white-space:pre;overflow-x:auto;line-height:normal;font-family:Menlo,'DejaVu Sans Mono',consolas,'Courier New',monospace\"><span style=\"font-weight: bold\"> Total params: </span><span style=\"color: #00af00; text-decoration-color: #00af00\">1,082,913</span> (4.13 MB)\n",
       "</pre>\n"
      ],
      "text/plain": [
       "\u001b[1m Total params: \u001b[0m\u001b[38;5;34m1,082,913\u001b[0m (4.13 MB)\n"
      ]
     },
     "metadata": {},
     "output_type": "display_data"
    },
    {
     "data": {
      "text/html": [
       "<pre style=\"white-space:pre;overflow-x:auto;line-height:normal;font-family:Menlo,'DejaVu Sans Mono',consolas,'Courier New',monospace\"><span style=\"font-weight: bold\"> Trainable params: </span><span style=\"color: #00af00; text-decoration-color: #00af00\">1,065,345</span> (4.06 MB)\n",
       "</pre>\n"
      ],
      "text/plain": [
       "\u001b[1m Trainable params: \u001b[0m\u001b[38;5;34m1,065,345\u001b[0m (4.06 MB)\n"
      ]
     },
     "metadata": {},
     "output_type": "display_data"
    },
    {
     "data": {
      "text/html": [
       "<pre style=\"white-space:pre;overflow-x:auto;line-height:normal;font-family:Menlo,'DejaVu Sans Mono',consolas,'Courier New',monospace\"><span style=\"font-weight: bold\"> Non-trainable params: </span><span style=\"color: #00af00; text-decoration-color: #00af00\">17,568</span> (68.62 KB)\n",
       "</pre>\n"
      ],
      "text/plain": [
       "\u001b[1m Non-trainable params: \u001b[0m\u001b[38;5;34m17,568\u001b[0m (68.62 KB)\n"
      ]
     },
     "metadata": {},
     "output_type": "display_data"
    }
   ],
   "source": [
    "model_base_dir = os.path.join(\n",
    "    os.getcwd(), 'models', 'cat_dog'\n",
    ")\n",
    "\n",
    "with open(os.path.join(model_base_dir, 'Cat_Dogs.model.json'), 'r') as json:\n",
    "    network: Sequential = model_from_json(\n",
    "        json_string = json.read()\n",
    "    )\n",
    "\n",
    "network.load_weights(\n",
    "    filepath= os.path.join(model_base_dir, 'Cat_Dogs.weights.h5')\n",
    ")\n",
    "\n",
    "# network.trainable = False\n",
    "\n",
    "network.compile(\n",
    "    optimizer=Adam(),\n",
    "    metrics=[\n",
    "        BinaryAccuracy(),\n",
    "        RootMeanSquaredError()\n",
    "    ],\n",
    "    loss=Hinge(),\n",
    "    jit_compile=True\n",
    ")\n",
    "\n",
    "# Unfreeze dense layers\n",
    "for index in range(len(network.layers)):\n",
    "    if not 'dense' in network.layers[index].name:\n",
    "        network.layers[index].trainable = False\n",
    "\n",
    "network.summary(show_trainable=True)\n"
   ]
  },
  {
   "cell_type": "code",
   "execution_count": 17,
   "metadata": {},
   "outputs": [],
   "source": [
    "network.save(\"model.keras\")"
   ]
  },
  {
   "cell_type": "code",
   "execution_count": 18,
   "metadata": {},
   "outputs": [
    {
     "name": "stdout",
     "output_type": "stream",
     "text": [
      "Epoch 1/150\n"
     ]
    },
    {
     "name": "stderr",
     "output_type": "stream",
     "text": [
      "WARNING: All log messages before absl::InitializeLog() is called are written to STDERR\n",
      "I0000 00:00:1721933900.566966  226302 service.cc:146] XLA service 0x55a0c5a44ef0 initialized for platform CUDA (this does not guarantee that XLA will be used). Devices:\n",
      "I0000 00:00:1721933900.567025  226302 service.cc:154]   StreamExecutor device (0): NVIDIA GeForce MX450, Compute Capability 7.5\n",
      "2024-07-25 15:58:20.615610: I tensorflow/compiler/mlir/tensorflow/utils/dump_mlir_util.cc:268] disabling MLIR crash reproducer, set env var `MLIR_CRASH_REPRODUCER_DIRECTORY` to enable.\n",
      "I0000 00:00:1721933904.218995  226302 device_compiler.h:188] Compiled cluster using XLA!  This line is logged at most once for the lifetime of the process.\n"
     ]
    },
    {
     "name": "stdout",
     "output_type": "stream",
     "text": [
      "63/63 - 9s - 146ms/step - binary_accuracy: 0.5270 - loss: 0.9717 - root_mean_squared_error: 0.6247\n",
      "Epoch 2/150\n",
      "63/63 - 1s - 13ms/step - binary_accuracy: 0.6258 - loss: 0.8762 - root_mean_squared_error: 0.5854\n",
      "Epoch 3/150\n",
      "63/63 - 1s - 12ms/step - binary_accuracy: 0.6530 - loss: 0.8509 - root_mean_squared_error: 0.5731\n",
      "Epoch 4/150\n",
      "63/63 - 1s - 13ms/step - binary_accuracy: 0.6758 - loss: 0.8252 - root_mean_squared_error: 0.5514\n",
      "Epoch 5/150\n",
      "63/63 - 1s - 13ms/step - binary_accuracy: 0.6718 - loss: 0.8301 - root_mean_squared_error: 0.5600\n",
      "Epoch 6/150\n",
      "63/63 - 1s - 13ms/step - binary_accuracy: 0.6913 - loss: 0.8093 - root_mean_squared_error: 0.5434\n",
      "Epoch 7/150\n",
      "63/63 - 1s - 18ms/step - binary_accuracy: 0.7003 - loss: 0.8003 - root_mean_squared_error: 0.5361\n",
      "Epoch 8/150\n",
      "63/63 - 1s - 14ms/step - binary_accuracy: 0.7048 - loss: 0.7945 - root_mean_squared_error: 0.5294\n",
      "Epoch 9/150\n",
      "63/63 - 1s - 12ms/step - binary_accuracy: 0.7172 - loss: 0.7838 - root_mean_squared_error: 0.5203\n",
      "Epoch 10/150\n",
      "63/63 - 1s - 13ms/step - binary_accuracy: 0.7090 - loss: 0.7903 - root_mean_squared_error: 0.5273\n",
      "Epoch 11/150\n",
      "63/63 - 1s - 16ms/step - binary_accuracy: 0.7405 - loss: 0.7604 - root_mean_squared_error: 0.4987\n",
      "Epoch 12/150\n",
      "63/63 - 1s - 15ms/step - binary_accuracy: 0.7235 - loss: 0.7774 - root_mean_squared_error: 0.5148\n",
      "Epoch 13/150\n",
      "63/63 - 1s - 12ms/step - binary_accuracy: 0.7377 - loss: 0.7615 - root_mean_squared_error: 0.5001\n",
      "Epoch 14/150\n",
      "63/63 - 1s - 15ms/step - binary_accuracy: 0.7425 - loss: 0.7593 - root_mean_squared_error: 0.4989\n",
      "Epoch 15/150\n",
      "63/63 - 1s - 15ms/step - binary_accuracy: 0.7400 - loss: 0.7601 - root_mean_squared_error: 0.5000\n",
      "Epoch 16/150\n",
      "63/63 - 1s - 17ms/step - binary_accuracy: 0.7355 - loss: 0.7674 - root_mean_squared_error: 0.5060\n",
      "Epoch 17/150\n",
      "63/63 - 1s - 15ms/step - binary_accuracy: 0.7410 - loss: 0.7593 - root_mean_squared_error: 0.4981\n",
      "Epoch 18/150\n",
      "63/63 - 1s - 12ms/step - binary_accuracy: 0.7470 - loss: 0.7534 - root_mean_squared_error: 0.4938\n",
      "Epoch 19/150\n",
      "63/63 - 1s - 17ms/step - binary_accuracy: 0.7707 - loss: 0.7311 - root_mean_squared_error: 0.4701\n",
      "Epoch 20/150\n",
      "63/63 - 1s - 20ms/step - binary_accuracy: 0.7750 - loss: 0.7250 - root_mean_squared_error: 0.4645\n",
      "Epoch 21/150\n",
      "63/63 - 1s - 18ms/step - binary_accuracy: 0.7688 - loss: 0.7313 - root_mean_squared_error: 0.4698\n",
      "Epoch 22/150\n",
      "63/63 - 1s - 17ms/step - binary_accuracy: 0.7700 - loss: 0.7306 - root_mean_squared_error: 0.4696\n",
      "Epoch 23/150\n",
      "63/63 - 1s - 16ms/step - binary_accuracy: 0.7815 - loss: 0.7196 - root_mean_squared_error: 0.4573\n",
      "Epoch 24/150\n",
      "63/63 - 1s - 16ms/step - binary_accuracy: 0.7960 - loss: 0.7064 - root_mean_squared_error: 0.4445\n",
      "Epoch 25/150\n",
      "63/63 - 1s - 15ms/step - binary_accuracy: 0.7915 - loss: 0.7093 - root_mean_squared_error: 0.4492\n",
      "Epoch 26/150\n",
      "63/63 - 1s - 14ms/step - binary_accuracy: 0.7955 - loss: 0.7049 - root_mean_squared_error: 0.4432\n",
      "Epoch 27/150\n",
      "63/63 - 1s - 13ms/step - binary_accuracy: 0.8045 - loss: 0.6960 - root_mean_squared_error: 0.4334\n",
      "Epoch 28/150\n",
      "63/63 - 1s - 14ms/step - binary_accuracy: 0.8000 - loss: 0.7005 - root_mean_squared_error: 0.4384\n",
      "Epoch 29/150\n",
      "63/63 - 1s - 14ms/step - binary_accuracy: 0.8030 - loss: 0.6970 - root_mean_squared_error: 0.4344\n",
      "Epoch 30/150\n",
      "63/63 - 1s - 23ms/step - binary_accuracy: 0.8117 - loss: 0.6897 - root_mean_squared_error: 0.4267\n",
      "Epoch 31/150\n",
      "63/63 - 2s - 27ms/step - binary_accuracy: 0.8108 - loss: 0.6905 - root_mean_squared_error: 0.4271\n",
      "Epoch 32/150\n",
      "63/63 - 1s - 21ms/step - binary_accuracy: 0.8090 - loss: 0.6907 - root_mean_squared_error: 0.4275\n",
      "Epoch 33/150\n",
      "63/63 - 1s - 18ms/step - binary_accuracy: 0.8112 - loss: 0.6897 - root_mean_squared_error: 0.4256\n",
      "Epoch 34/150\n",
      "63/63 - 1s - 18ms/step - binary_accuracy: 0.8190 - loss: 0.6820 - root_mean_squared_error: 0.4171\n",
      "Epoch 35/150\n",
      "63/63 - 1s - 15ms/step - binary_accuracy: 0.8165 - loss: 0.6844 - root_mean_squared_error: 0.4198\n",
      "Epoch 36/150\n",
      "63/63 - 1s - 15ms/step - binary_accuracy: 0.8238 - loss: 0.6767 - root_mean_squared_error: 0.4115\n",
      "Epoch 37/150\n",
      "63/63 - 1s - 14ms/step - binary_accuracy: 0.8303 - loss: 0.6711 - root_mean_squared_error: 0.4037\n",
      "Epoch 38/150\n",
      "63/63 - 1s - 14ms/step - binary_accuracy: 0.8170 - loss: 0.6846 - root_mean_squared_error: 0.4200\n",
      "Epoch 39/150\n",
      "63/63 - 1s - 13ms/step - binary_accuracy: 0.8267 - loss: 0.6749 - root_mean_squared_error: 0.4112\n",
      "Epoch 40/150\n",
      "63/63 - 1s - 13ms/step - binary_accuracy: 0.8328 - loss: 0.6687 - root_mean_squared_error: 0.4023\n",
      "Epoch 41/150\n",
      "63/63 - 1s - 13ms/step - binary_accuracy: 0.8395 - loss: 0.6616 - root_mean_squared_error: 0.3935\n",
      "Epoch 42/150\n",
      "63/63 - 1s - 12ms/step - binary_accuracy: 0.8328 - loss: 0.6682 - root_mean_squared_error: 0.4020\n",
      "Epoch 43/150\n",
      "63/63 - 1s - 14ms/step - binary_accuracy: 0.8395 - loss: 0.6622 - root_mean_squared_error: 0.3957\n",
      "Epoch 44/150\n",
      "63/63 - 1s - 15ms/step - binary_accuracy: 0.8367 - loss: 0.6652 - root_mean_squared_error: 0.3987\n",
      "Epoch 45/150\n",
      "63/63 - 1s - 17ms/step - binary_accuracy: 0.8345 - loss: 0.6661 - root_mean_squared_error: 0.3998\n",
      "Epoch 46/150\n",
      "63/63 - 1s - 16ms/step - binary_accuracy: 0.8425 - loss: 0.6573 - root_mean_squared_error: 0.3890\n",
      "Epoch 47/150\n",
      "63/63 - 1s - 16ms/step - binary_accuracy: 0.8453 - loss: 0.6562 - root_mean_squared_error: 0.3862\n",
      "Epoch 48/150\n",
      "63/63 - 1s - 15ms/step - binary_accuracy: 0.8395 - loss: 0.6625 - root_mean_squared_error: 0.3949\n",
      "Epoch 49/150\n",
      "63/63 - 1s - 15ms/step - binary_accuracy: 0.8317 - loss: 0.6681 - root_mean_squared_error: 0.4035\n",
      "Epoch 50/150\n",
      "63/63 - 1s - 14ms/step - binary_accuracy: 0.8455 - loss: 0.6552 - root_mean_squared_error: 0.3872\n",
      "Epoch 51/150\n",
      "63/63 - 1s - 13ms/step - binary_accuracy: 0.8500 - loss: 0.6496 - root_mean_squared_error: 0.3801\n",
      "Epoch 52/150\n",
      "63/63 - 1s - 12ms/step - binary_accuracy: 0.8275 - loss: 0.6727 - root_mean_squared_error: 0.4092\n",
      "Epoch 53/150\n",
      "63/63 - 1s - 14ms/step - binary_accuracy: 0.8465 - loss: 0.6537 - root_mean_squared_error: 0.3866\n",
      "Epoch 54/150\n",
      "63/63 - 1s - 23ms/step - binary_accuracy: 0.8453 - loss: 0.6552 - root_mean_squared_error: 0.3887\n",
      "Epoch 55/150\n",
      "63/63 - 2s - 30ms/step - binary_accuracy: 0.8447 - loss: 0.6571 - root_mean_squared_error: 0.3902\n",
      "Epoch 56/150\n",
      "63/63 - 1s - 21ms/step - binary_accuracy: 0.8360 - loss: 0.6641 - root_mean_squared_error: 0.3978\n",
      "Epoch 57/150\n",
      "63/63 - 1s - 19ms/step - binary_accuracy: 0.8503 - loss: 0.6493 - root_mean_squared_error: 0.3808\n",
      "Epoch 58/150\n",
      "63/63 - 1s - 17ms/step - binary_accuracy: 0.8475 - loss: 0.6531 - root_mean_squared_error: 0.3847\n",
      "Epoch 59/150\n",
      "63/63 - 1s - 16ms/step - binary_accuracy: 0.8482 - loss: 0.6521 - root_mean_squared_error: 0.3833\n",
      "Epoch 60/150\n",
      "63/63 - 1s - 14ms/step - binary_accuracy: 0.8503 - loss: 0.6504 - root_mean_squared_error: 0.3812\n",
      "Epoch 61/150\n",
      "63/63 - 1s - 13ms/step - binary_accuracy: 0.8645 - loss: 0.6355 - root_mean_squared_error: 0.3625\n",
      "Epoch 62/150\n",
      "63/63 - 1s - 13ms/step - binary_accuracy: 0.8695 - loss: 0.6312 - root_mean_squared_error: 0.3558\n",
      "Epoch 63/150\n",
      "63/63 - 1s - 16ms/step - binary_accuracy: 0.8612 - loss: 0.6391 - root_mean_squared_error: 0.3668\n",
      "Epoch 64/150\n",
      "63/63 - 1s - 21ms/step - binary_accuracy: 0.8612 - loss: 0.6397 - root_mean_squared_error: 0.3678\n",
      "Epoch 65/150\n",
      "63/63 - 1s - 23ms/step - binary_accuracy: 0.8587 - loss: 0.6413 - root_mean_squared_error: 0.3703\n",
      "Epoch 66/150\n",
      "63/63 - 1s - 20ms/step - binary_accuracy: 0.8727 - loss: 0.6277 - root_mean_squared_error: 0.3525\n",
      "Epoch 67/150\n",
      "63/63 - 1s - 21ms/step - binary_accuracy: 0.8525 - loss: 0.6479 - root_mean_squared_error: 0.3786\n",
      "Epoch 68/150\n",
      "63/63 - 1s - 17ms/step - binary_accuracy: 0.8608 - loss: 0.6397 - root_mean_squared_error: 0.3690\n",
      "Epoch 69/150\n",
      "63/63 - 1s - 15ms/step - binary_accuracy: 0.8680 - loss: 0.6328 - root_mean_squared_error: 0.3585\n",
      "Epoch 70/150\n",
      "63/63 - 1s - 15ms/step - binary_accuracy: 0.8685 - loss: 0.6334 - root_mean_squared_error: 0.3599\n",
      "Epoch 71/150\n",
      "63/63 - 1s - 14ms/step - binary_accuracy: 0.8640 - loss: 0.6368 - root_mean_squared_error: 0.3649\n",
      "Epoch 72/150\n",
      "63/63 - 1s - 13ms/step - binary_accuracy: 0.8700 - loss: 0.6315 - root_mean_squared_error: 0.3573\n",
      "Epoch 73/150\n",
      "63/63 - 1s - 13ms/step - binary_accuracy: 0.8543 - loss: 0.6470 - root_mean_squared_error: 0.3778\n",
      "Epoch 74/150\n",
      "63/63 - 1s - 12ms/step - binary_accuracy: 0.8495 - loss: 0.6512 - root_mean_squared_error: 0.3835\n",
      "Epoch 75/150\n",
      "63/63 - 1s - 14ms/step - binary_accuracy: 0.8795 - loss: 0.6207 - root_mean_squared_error: 0.3438\n",
      "Epoch 76/150\n",
      "63/63 - 1s - 15ms/step - binary_accuracy: 0.8643 - loss: 0.6357 - root_mean_squared_error: 0.3632\n",
      "Epoch 77/150\n",
      "63/63 - 1s - 17ms/step - binary_accuracy: 0.8727 - loss: 0.6278 - root_mean_squared_error: 0.3523\n",
      "Epoch 78/150\n",
      "63/63 - 1s - 16ms/step - binary_accuracy: 0.8615 - loss: 0.6379 - root_mean_squared_error: 0.3660\n",
      "Epoch 79/150\n",
      "63/63 - 1s - 15ms/step - binary_accuracy: 0.8625 - loss: 0.6366 - root_mean_squared_error: 0.3628\n",
      "Epoch 80/150\n",
      "63/63 - 1s - 15ms/step - binary_accuracy: 0.8593 - loss: 0.6412 - root_mean_squared_error: 0.3704\n",
      "Epoch 81/150\n",
      "63/63 - 1s - 15ms/step - binary_accuracy: 0.8710 - loss: 0.6295 - root_mean_squared_error: 0.3552\n",
      "Epoch 82/150\n",
      "63/63 - 1s - 14ms/step - binary_accuracy: 0.8558 - loss: 0.6436 - root_mean_squared_error: 0.3739\n",
      "Epoch 83/150\n",
      "63/63 - 1s - 13ms/step - binary_accuracy: 0.8733 - loss: 0.6275 - root_mean_squared_error: 0.3519\n",
      "Epoch 84/150\n",
      "63/63 - 1s - 13ms/step - binary_accuracy: 0.8675 - loss: 0.6332 - root_mean_squared_error: 0.3595\n",
      "Epoch 85/150\n",
      "63/63 - 1s - 23ms/step - binary_accuracy: 0.8740 - loss: 0.6278 - root_mean_squared_error: 0.3532\n",
      "Epoch 86/150\n",
      "63/63 - 2s - 38ms/step - binary_accuracy: 0.8755 - loss: 0.6242 - root_mean_squared_error: 0.3480\n",
      "Epoch 87/150\n",
      "63/63 - 2s - 36ms/step - binary_accuracy: 0.8630 - loss: 0.6373 - root_mean_squared_error: 0.3660\n",
      "Epoch 88/150\n",
      "63/63 - 1s - 19ms/step - binary_accuracy: 0.8618 - loss: 0.6387 - root_mean_squared_error: 0.3682\n",
      "Epoch 89/150\n",
      "63/63 - 1s - 18ms/step - binary_accuracy: 0.8780 - loss: 0.6232 - root_mean_squared_error: 0.3465\n",
      "Epoch 90/150\n",
      "63/63 - 1s - 17ms/step - binary_accuracy: 0.8740 - loss: 0.6258 - root_mean_squared_error: 0.3506\n",
      "Epoch 91/150\n",
      "63/63 - 1s - 15ms/step - binary_accuracy: 0.8712 - loss: 0.6293 - root_mean_squared_error: 0.3560\n",
      "Epoch 92/150\n",
      "63/63 - 1s - 14ms/step - binary_accuracy: 0.8763 - loss: 0.6236 - root_mean_squared_error: 0.3471\n",
      "Epoch 93/150\n",
      "63/63 - 1s - 14ms/step - binary_accuracy: 0.8832 - loss: 0.6155 - root_mean_squared_error: 0.3347\n",
      "Epoch 94/150\n",
      "63/63 - 1s - 13ms/step - binary_accuracy: 0.8792 - loss: 0.6213 - root_mean_squared_error: 0.3442\n",
      "Epoch 95/150\n",
      "63/63 - 1s - 13ms/step - binary_accuracy: 0.8763 - loss: 0.6234 - root_mean_squared_error: 0.3462\n",
      "Epoch 96/150\n",
      "63/63 - 1s - 14ms/step - binary_accuracy: 0.8798 - loss: 0.6202 - root_mean_squared_error: 0.3431\n",
      "Epoch 97/150\n",
      "63/63 - 2s - 31ms/step - binary_accuracy: 0.8817 - loss: 0.6189 - root_mean_squared_error: 0.3406\n",
      "Epoch 98/150\n",
      "63/63 - 2s - 33ms/step - binary_accuracy: 0.8900 - loss: 0.6111 - root_mean_squared_error: 0.3284\n",
      "Epoch 99/150\n",
      "63/63 - 2s - 25ms/step - binary_accuracy: 0.8805 - loss: 0.6189 - root_mean_squared_error: 0.3412\n",
      "Epoch 100/150\n",
      "63/63 - 2s - 24ms/step - binary_accuracy: 0.8903 - loss: 0.6106 - root_mean_squared_error: 0.3299\n",
      "Epoch 101/150\n",
      "63/63 - 1s - 21ms/step - binary_accuracy: 0.8888 - loss: 0.6107 - root_mean_squared_error: 0.3292\n",
      "Epoch 102/150\n",
      "63/63 - 1s - 15ms/step - binary_accuracy: 0.8788 - loss: 0.6220 - root_mean_squared_error: 0.3450\n",
      "Epoch 103/150\n",
      "63/63 - 1s - 14ms/step - binary_accuracy: 0.8817 - loss: 0.6184 - root_mean_squared_error: 0.3403\n",
      "Epoch 104/150\n",
      "63/63 - 1s - 14ms/step - binary_accuracy: 0.8892 - loss: 0.6111 - root_mean_squared_error: 0.3298\n",
      "Epoch 105/150\n",
      "63/63 - 1s - 13ms/step - binary_accuracy: 0.8817 - loss: 0.6192 - root_mean_squared_error: 0.3414\n",
      "Epoch 106/150\n",
      "63/63 - 1s - 22ms/step - binary_accuracy: 0.8810 - loss: 0.6190 - root_mean_squared_error: 0.3409\n",
      "Epoch 107/150\n",
      "63/63 - 3s - 45ms/step - binary_accuracy: 0.8808 - loss: 0.6196 - root_mean_squared_error: 0.3414\n",
      "Epoch 108/150\n",
      "63/63 - 1s - 22ms/step - binary_accuracy: 0.8903 - loss: 0.6097 - root_mean_squared_error: 0.3286\n",
      "Epoch 109/150\n",
      "63/63 - 1s - 19ms/step - binary_accuracy: 0.8878 - loss: 0.6128 - root_mean_squared_error: 0.3322\n",
      "Epoch 110/150\n",
      "63/63 - 1s - 17ms/step - binary_accuracy: 0.8825 - loss: 0.6172 - root_mean_squared_error: 0.3389\n",
      "Epoch 111/150\n",
      "63/63 - 1s - 15ms/step - binary_accuracy: 0.8870 - loss: 0.6126 - root_mean_squared_error: 0.3328\n",
      "Epoch 112/150\n",
      "63/63 - 1s - 14ms/step - binary_accuracy: 0.8845 - loss: 0.6158 - root_mean_squared_error: 0.3361\n",
      "Epoch 113/150\n",
      "63/63 - 1s - 13ms/step - binary_accuracy: 0.8842 - loss: 0.6162 - root_mean_squared_error: 0.3373\n",
      "Epoch 114/150\n",
      "63/63 - 1s - 14ms/step - binary_accuracy: 0.8848 - loss: 0.6151 - root_mean_squared_error: 0.3358\n",
      "Epoch 115/150\n",
      "63/63 - 1s - 12ms/step - binary_accuracy: 0.8735 - loss: 0.6269 - root_mean_squared_error: 0.3531\n",
      "Epoch 116/150\n",
      "63/63 - 1s - 12ms/step - binary_accuracy: 0.8850 - loss: 0.6154 - root_mean_squared_error: 0.3357\n",
      "Epoch 117/150\n",
      "63/63 - 1s - 13ms/step - binary_accuracy: 0.8903 - loss: 0.6102 - root_mean_squared_error: 0.3286\n",
      "Epoch 118/150\n",
      "63/63 - 2s - 26ms/step - binary_accuracy: 0.8978 - loss: 0.6029 - root_mean_squared_error: 0.3184\n",
      "Epoch 119/150\n",
      "63/63 - 3s - 50ms/step - binary_accuracy: 0.8957 - loss: 0.6052 - root_mean_squared_error: 0.3198\n",
      "Epoch 120/150\n",
      "63/63 - 1s - 20ms/step - binary_accuracy: 0.8838 - loss: 0.6163 - root_mean_squared_error: 0.3377\n",
      "Epoch 121/150\n",
      "63/63 - 1s - 19ms/step - binary_accuracy: 0.8790 - loss: 0.6213 - root_mean_squared_error: 0.3453\n",
      "Epoch 122/150\n",
      "63/63 - 1s - 18ms/step - binary_accuracy: 0.8735 - loss: 0.6266 - root_mean_squared_error: 0.3528\n",
      "Epoch 123/150\n",
      "63/63 - 1s - 17ms/step - binary_accuracy: 0.8892 - loss: 0.6104 - root_mean_squared_error: 0.3289\n",
      "Epoch 124/150\n",
      "63/63 - 1s - 16ms/step - binary_accuracy: 0.8763 - loss: 0.6248 - root_mean_squared_error: 0.3503\n",
      "Epoch 125/150\n",
      "63/63 - 1s - 15ms/step - binary_accuracy: 0.8888 - loss: 0.6114 - root_mean_squared_error: 0.3302\n",
      "Epoch 126/150\n",
      "63/63 - 1s - 14ms/step - binary_accuracy: 0.8848 - loss: 0.6154 - root_mean_squared_error: 0.3366\n",
      "Epoch 127/150\n",
      "63/63 - 1s - 13ms/step - binary_accuracy: 0.8735 - loss: 0.6267 - root_mean_squared_error: 0.3528\n",
      "Epoch 128/150\n",
      "63/63 - 1s - 13ms/step - binary_accuracy: 0.8910 - loss: 0.6094 - root_mean_squared_error: 0.3278\n",
      "Epoch 129/150\n",
      "63/63 - 1s - 13ms/step - binary_accuracy: 0.8842 - loss: 0.6167 - root_mean_squared_error: 0.3381\n",
      "Epoch 130/150\n",
      "63/63 - 1s - 12ms/step - binary_accuracy: 0.8900 - loss: 0.6107 - root_mean_squared_error: 0.3291\n",
      "Epoch 131/150\n",
      "63/63 - 1s - 20ms/step - binary_accuracy: 0.8827 - loss: 0.6180 - root_mean_squared_error: 0.3392\n",
      "Epoch 132/150\n",
      "63/63 - 2s - 37ms/step - binary_accuracy: 0.8928 - loss: 0.6085 - root_mean_squared_error: 0.3261\n",
      "Epoch 133/150\n",
      "63/63 - 2s - 25ms/step - binary_accuracy: 0.8892 - loss: 0.6116 - root_mean_squared_error: 0.3303\n",
      "Epoch 134/150\n",
      "63/63 - 1s - 21ms/step - binary_accuracy: 0.8890 - loss: 0.6109 - root_mean_squared_error: 0.3295\n",
      "Epoch 135/150\n",
      "63/63 - 1s - 18ms/step - binary_accuracy: 0.8795 - loss: 0.6207 - root_mean_squared_error: 0.3443\n",
      "Epoch 136/150\n",
      "63/63 - 1s - 16ms/step - binary_accuracy: 0.8827 - loss: 0.6174 - root_mean_squared_error: 0.3387\n",
      "Epoch 137/150\n",
      "63/63 - 1s - 15ms/step - binary_accuracy: 0.8942 - loss: 0.6059 - root_mean_squared_error: 0.3209\n",
      "Epoch 138/150\n",
      "63/63 - 1s - 14ms/step - binary_accuracy: 0.8978 - loss: 0.6032 - root_mean_squared_error: 0.3171\n",
      "Epoch 139/150\n",
      "63/63 - 1s - 13ms/step - binary_accuracy: 0.8890 - loss: 0.6102 - root_mean_squared_error: 0.3287\n",
      "Epoch 140/150\n",
      "63/63 - 1s - 13ms/step - binary_accuracy: 0.8925 - loss: 0.6070 - root_mean_squared_error: 0.3235\n",
      "Epoch 141/150\n",
      "63/63 - 1s - 21ms/step - binary_accuracy: 0.8885 - loss: 0.6107 - root_mean_squared_error: 0.3290\n",
      "Epoch 142/150\n",
      "63/63 - 2s - 25ms/step - binary_accuracy: 0.8963 - loss: 0.6043 - root_mean_squared_error: 0.3198\n",
      "Epoch 143/150\n",
      "63/63 - 1s - 22ms/step - binary_accuracy: 0.8932 - loss: 0.6077 - root_mean_squared_error: 0.3250\n",
      "Epoch 144/150\n",
      "63/63 - 1s - 19ms/step - binary_accuracy: 0.8885 - loss: 0.6109 - root_mean_squared_error: 0.3298\n",
      "Epoch 145/150\n",
      "63/63 - 1s - 18ms/step - binary_accuracy: 0.8988 - loss: 0.6016 - root_mean_squared_error: 0.3150\n",
      "Epoch 146/150\n",
      "63/63 - 1s - 16ms/step - binary_accuracy: 0.8900 - loss: 0.6103 - root_mean_squared_error: 0.3287\n",
      "Epoch 147/150\n",
      "63/63 - 1s - 14ms/step - binary_accuracy: 0.8855 - loss: 0.6149 - root_mean_squared_error: 0.3359\n",
      "Epoch 148/150\n",
      "63/63 - 1s - 14ms/step - binary_accuracy: 0.8878 - loss: 0.6124 - root_mean_squared_error: 0.3331\n",
      "Epoch 149/150\n",
      "63/63 - 1s - 15ms/step - binary_accuracy: 0.8808 - loss: 0.6190 - root_mean_squared_error: 0.3419\n",
      "Epoch 150/150\n",
      "63/63 - 1s - 13ms/step - binary_accuracy: 0.8805 - loss: 0.6203 - root_mean_squared_error: 0.3438\n"
     ]
    },
    {
     "data": {
      "text/plain": [
       "<keras.src.callbacks.history.History at 0x7f3755f77640>"
      ]
     },
     "execution_count": 18,
     "metadata": {},
     "output_type": "execute_result"
    }
   ],
   "source": [
    "network.fit(\n",
    "    x=X_train_processed,\n",
    "    y=y_train,\n",
    "    batch_size=64,\n",
    "    epochs=150,\n",
    "    verbose=2\n",
    ")"
   ]
  },
  {
   "cell_type": "code",
   "execution_count": null,
   "metadata": {},
   "outputs": [],
   "source": [
    "network.evaluate(x=X_test_reshaped, y=y_test)"
   ]
  }
 ],
 "metadata": {
  "kernelspec": {
   "display_name": "env",
   "language": "python",
   "name": "python3"
  },
  "language_info": {
   "codemirror_mode": {
    "name": "ipython",
    "version": 3
   },
   "file_extension": ".py",
   "mimetype": "text/x-python",
   "name": "python",
   "nbconvert_exporter": "python",
   "pygments_lexer": "ipython3",
   "version": "3.10.12"
  }
 },
 "nbformat": 4,
 "nbformat_minor": 2
}
