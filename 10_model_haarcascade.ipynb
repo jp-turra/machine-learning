{
 "cells": [
  {
   "cell_type": "markdown",
   "metadata": {},
   "source": [
    "# Classificador CASCADE\n",
    "\n",
    "* Precisa de grupo de imagens positivas (no caso de detecção de faces, ter apenas faces), e, um grupo negativo (não faces)\n",
    "\n",
    "* Passando pelo algoritmo [AdaBoost](https://www.machinelearningplus.com/machine-learning/introduction-to-adaboost/) (recebe a base de dados e detecta o padrão)\n",
    "\n",
    "    * It works in the following steps:\n",
    "        1. Initially, Adaboost selects a training subset randomly;\n",
    "        2. It iteratively trains the AdaBoost machine learning model by selecting the training set based on the accurate prediction of the last training;\n",
    "        3. It assigns the higher weight to wrong classified observations so that in the next iteration these observations will get the high probability for classification;\n",
    "        4. Also, It assigns the weight to the trained classifier in each iteration according to the accuracy of the classifier. The more accurate classifier will get high weight\n",
    "        5. This process iterates until the complete training data fits without any error or until reached to the specified maximum number of estimators\n",
    "\n",
    "\n",
    "* Classificador [CASCADE](https://en.wikipedia.org/wiki/Cascading_classifiers) consiste em uma série de classificadores que identificam características individuais de um objeto, e, retornam em série os resultados de cada classificar. Caso todos os resultados forem positivos, o classificador CASCADE classifica o objeto como positivo."
   ]
  },
  {
   "cell_type": "code",
   "execution_count": 2,
   "metadata": {},
   "outputs": [
    {
     "ename": "ModuleNotFoundError",
     "evalue": "No module named 'numba'",
     "output_type": "error",
     "traceback": [
      "\u001b[1;31m---------------------------------------------------------------------------\u001b[0m",
      "\u001b[1;31mModuleNotFoundError\u001b[0m                       Traceback (most recent call last)",
      "Cell \u001b[1;32mIn[2], line 2\u001b[0m\n\u001b[0;32m      1\u001b[0m \u001b[38;5;66;03m# python -m pip install numba cudatoolkit\u001b[39;00m\n\u001b[1;32m----> 2\u001b[0m \u001b[38;5;28;01mfrom\u001b[39;00m \u001b[38;5;21;01mnumba\u001b[39;00m \u001b[38;5;28;01mimport\u001b[39;00m jit, cuda \n\u001b[0;32m      3\u001b[0m \u001b[38;5;28;01mimport\u001b[39;00m \u001b[38;5;21;01mnumpy\u001b[39;00m \u001b[38;5;28;01mas\u001b[39;00m \u001b[38;5;21;01mnp\u001b[39;00m \n\u001b[0;32m      4\u001b[0m \u001b[38;5;66;03m# to measure exec time \u001b[39;00m\n",
      "\u001b[1;31mModuleNotFoundError\u001b[0m: No module named 'numba'"
     ]
    }
   ],
   "source": [
    "# python -m pip install numba cudatoolkit\n",
    "from numba import jit, cuda \n",
    "import numpy as np \n",
    "# to measure exec time \n",
    "from timeit import default_timer as timer    \n",
    "  \n",
    "# normal function to run on cpu \n",
    "def func(a):                                 \n",
    "    for i in range(10000000): \n",
    "        a[i]+= 1      \n",
    "  \n",
    "# function optimized to run on gpu  \n",
    "@jit(target_backend='cuda')                          \n",
    "def func2(a): \n",
    "    for i in range(10000000): \n",
    "        a[i]+= 1\n",
    "if __name__==\"__main__\": \n",
    "    n = 10000000                            \n",
    "    a = np.ones(n, dtype = np.float64) \n",
    "      \n",
    "    start = timer() \n",
    "    func(a) \n",
    "    print(\"without GPU:\", timer()-start)     \n",
    "      \n",
    "    start = timer() \n",
    "    func2(a) \n",
    "    print(\"with GPU:\", timer()-start) "
   ]
  },
  {
   "cell_type": "markdown",
   "metadata": {},
   "source": [
    "# Importando bibliotecas"
   ]
  },
  {
   "cell_type": "code",
   "execution_count": 1,
   "metadata": {},
   "outputs": [],
   "source": [
    "import os\n",
    "import cv2\n",
    "import numpy as np\n",
    "\n",
    "from cv2.typing import MatLike\n",
    "base_dir = os.path.join(os.getcwd(), 'datasets', 'playground', 'curso')"
   ]
  },
  {
   "cell_type": "code",
   "execution_count": 2,
   "metadata": {},
   "outputs": [],
   "source": [
    "def display_image(window_name: str, image: MatLike):\n",
    "    cv2.imshow(window_name, image)\n",
    "    cv2.waitKey(0)\n",
    "    cv2.destroyAllWindows()\n",
    "\n",
    "def convert_image_color(image: MatLike, color: int = cv2.COLOR_BGR2GRAY):\n",
    "    return cv2.cvtColor(image, color)"
   ]
  },
  {
   "cell_type": "markdown",
   "metadata": {},
   "source": [
    "## Testando o opencv"
   ]
  },
  {
   "cell_type": "code",
   "execution_count": 27,
   "metadata": {},
   "outputs": [
    {
     "data": {
      "text/plain": [
       "(1280, 1920, 3)"
      ]
     },
     "execution_count": 27,
     "metadata": {},
     "output_type": "execute_result"
    }
   ],
   "source": [
    "# Imagens podem ser encontradas em: https://drive.google.com/drive/folders/1AyJto3_9yWuR5JujFHE15-TZOt6uygzF?usp=sharing\n",
    "images_dir_path = os.path.join(\n",
    "    base_dir, 'Images'\n",
    ")\n",
    "\n",
    "image = cv2.imread(os.path.join(images_dir_path, 'people1.jpg'))\n",
    "image.shape"
   ]
  },
  {
   "cell_type": "code",
   "execution_count": 28,
   "metadata": {},
   "outputs": [],
   "source": [
    "display_image('image', image)"
   ]
  },
  {
   "cell_type": "code",
   "execution_count": 7,
   "metadata": {},
   "outputs": [],
   "source": [
    "# Reduz o tamanho para facilitar o processamento\n",
    "image = cv2.resize(image, (800, 600)) \n",
    "display_image('image', image)"
   ]
  },
  {
   "cell_type": "code",
   "execution_count": 8,
   "metadata": {},
   "outputs": [],
   "source": [
    "gray_image = convert_image_color(image)\n",
    "display_image('gray_image', gray_image)"
   ]
  },
  {
   "cell_type": "markdown",
   "metadata": {},
   "source": [
    "# Detecção de Faces - HaarCascade"
   ]
  },
  {
   "cell_type": "code",
   "execution_count": 17,
   "metadata": {},
   "outputs": [],
   "source": [
    "# Carregando o classificador Cascade pre-definido pelo OpenCV\n",
    "cascade_dir = os.path.join(\n",
    "    base_dir, 'Cascades'\n",
    ")\n",
    "\n",
    "face_detector = cv2.CascadeClassifier(\n",
    "    os.path.join(cascade_dir, 'haarcascade_frontalface_default.xml')\n",
    ")\n"
   ]
  },
  {
   "cell_type": "code",
   "execution_count": 22,
   "metadata": {},
   "outputs": [
    {
     "data": {
      "text/plain": [
       "array([[390, 323,  56,  56],\n",
       "       [387, 233,  73,  73],\n",
       "       [ 92, 239,  66,  66],\n",
       "       [115, 124,  53,  53],\n",
       "       [475, 123,  59,  59],\n",
       "       [677,  72,  68,  68]])"
      ]
     },
     "execution_count": 22,
     "metadata": {},
     "output_type": "execute_result"
    }
   ],
   "source": [
    "deteccoes = face_detector.detectMultiScale(\n",
    "    gray_image,\n",
    ")\n",
    "\n",
    "# Indica a posicao do objeto na imagem em que pode ser encontrada. Também indica largura e altura\n",
    "deteccoes"
   ]
  },
  {
   "cell_type": "code",
   "execution_count": 25,
   "metadata": {},
   "outputs": [],
   "source": [
    "for deteccao in deteccoes:\n",
    "    x = deteccao[0]\n",
    "    y = deteccao[1]\n",
    "    w = deteccao[2]\n",
    "    h = deteccao[3]\n",
    "\n",
    "    initial_pos = (x, y)\n",
    "    rect_color_bgr = (0, 255, 255)\n",
    "    rect_thickness = 3\n",
    "\n",
    "    cv2.rectangle(image, initial_pos, (x + w, y + h), rect_color_bgr, rect_thickness)\n",
    "    \n",
    "display_image('image', image)"
   ]
  },
  {
   "cell_type": "markdown",
   "metadata": {},
   "source": [
    "## Parâmetros HaarCascade"
   ]
  },
  {
   "cell_type": "code",
   "execution_count": 54,
   "metadata": {},
   "outputs": [],
   "source": [
    "images_dir_path = os.path.join(base_dir, 'Images')\n",
    "image = cv2.imread(os.path.join(images_dir_path, 'people2.jpg'))\n",
    "image = cv2.resize(image, (800, 600)) \n",
    "gray_image = convert_image_color(image)\n",
    "\n",
    "cascade_dir = os.path.join(base_dir, 'Cascades')\n",
    "face_detector = cv2.CascadeClassifier(os.path.join(cascade_dir, 'haarcascade_frontalface_default.xml'))\n",
    "guesses = face_detector.detectMultiScale(\n",
    "    image=gray_image,\n",
    "    # Indica que aumenta a escala da imagem. Util quando possui faces/objetos pequenos na imagem\n",
    "    # Diminuir o valor de escala quando a imagem for muito pequena. Não pode ser menor que 1.\n",
    "    scaleFactor=1.1,\n",
    "    # Número mínimo de vizinhos para considerar uma face, uma face. \n",
    "    # O algoritmo irá gerar 'minNeighbors' previsoes de um objeto e irá escolher a que melhor se adapta\n",
    "    # Maior o valor, maior será a certeza que uma face não é um falso positivo. \n",
    "    ## Em contra partida, pode acontecer que faces não sejam encontradas.\n",
    "    minNeighbors = 2,\n",
    "    # Tamanho mínimo que o objeto pode ser detectado.\n",
    "    minSize = (32,32),\n",
    "    # Tamanho mínimo que o objeto pode ser detectado.\n",
    "    maxSize = (100, 100)\n",
    ")\n",
    "\n",
    "for (x, y, w, h) in guesses:\n",
    "    cv2.rectangle(image, (x, y), (x+w, y+h), (0, 255, 0), 2)\n",
    "\n",
    "display_image('image', image)\n"
   ]
  },
  {
   "cell_type": "markdown",
   "metadata": {},
   "source": [
    "## Detecção de Olhos"
   ]
  },
  {
   "cell_type": "code",
   "execution_count": 3,
   "metadata": {},
   "outputs": [],
   "source": [
    "images_dir_path = os.path.join(base_dir, 'Images')\n",
    "image = cv2.imread(os.path.join(images_dir_path, 'people1.jpg'))\n",
    "# image = cv2.resize(image, (800, 600)) \n",
    "gray_image = convert_image_color(image)\n",
    "\n",
    "cascade_dir = os.path.join(base_dir, 'Cascades')\n",
    "face_detector = cv2.CascadeClassifier(os.path.join(cascade_dir, 'haarcascade_frontalface_default.xml'))\n",
    "eye_detector = cv2.CascadeClassifier(os.path.join(cascade_dir, 'haarcascade_eye.xml'))\n",
    "guesses = face_detector.detectMultiScale(\n",
    "    image=gray_image,\n",
    "    # Indica que aumenta a escala da imagem. Util quando possui faces/objetos pequenos na imagem\n",
    "    # Diminuir o valor de escala quando a imagem for muito pequena. Não pode ser menor que 1.\n",
    "    scaleFactor=1.3,\n",
    "    # Número mínimo de vizinhos para considerar uma face, uma face. \n",
    "    # O algoritmo irá gerar 'minNeighbors' previsoes de um objeto e irá escolher a que melhor se adapta\n",
    "    # Maior o valor, maior será a certeza que uma face não é um falso positivo. \n",
    "    ## Em contra partida, pode acontecer que faces não sejam encontradas.\n",
    "    minNeighbors = 2,\n",
    "    # Tamanho mínimo que o objeto pode ser detectado.\n",
    "    minSize = (32,32),\n",
    "    # Tamanho mínimo que o objeto pode ser detectado.\n",
    "    maxSize = (200, 200)\n",
    ")\n",
    "\n",
    "for (x, y, w, h) in guesses:\n",
    "    cv2.rectangle(image, (x, y), (x+w, y+h), (0, 255, 0), 2)\n",
    "\n",
    "eye_guesses = eye_detector.detectMultiScale(\n",
    "    image=gray_image,\n",
    "    scaleFactor=1.09,\n",
    "    minNeighbors = 10,\n",
    "    maxSize = (70, 70)\n",
    ")\n",
    "\n",
    "for (x, y, w, h) in eye_guesses:\n",
    "    cv2.rectangle(image, (x, y), (x+w, y+h), (0, 0, 255), 2)\n",
    "\n",
    "display_image('image', image)"
   ]
  }
 ],
 "metadata": {
  "kernelspec": {
   "display_name": "env",
   "language": "python",
   "name": "python3"
  },
  "language_info": {
   "codemirror_mode": {
    "name": "ipython",
    "version": 3
   },
   "file_extension": ".py",
   "mimetype": "text/x-python",
   "name": "python",
   "nbconvert_exporter": "python",
   "pygments_lexer": "ipython3",
   "version": "3.11.0"
  }
 },
 "nbformat": 4,
 "nbformat_minor": 2
}
