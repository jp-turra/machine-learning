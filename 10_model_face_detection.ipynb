{
 "cells": [
  {
   "cell_type": "markdown",
   "metadata": {},
   "source": [
    "# Classificador CASCADE\n",
    "\n",
    "* Precisa de grupo de imagens positivas (no caso de detecção de faces, ter apenas faces), e, um grupo negativo (não faces)\n",
    "\n",
    "* Passando pelo algoritmo [AdaBoost](https://www.machinelearningplus.com/machine-learning/introduction-to-adaboost/) (recebe a base de dados e detecta o padrão)\n",
    "\n",
    "    * It works in the following steps:\n",
    "        1. Initially, Adaboost selects a training subset randomly;\n",
    "        2. It iteratively trains the AdaBoost machine learning model by selecting the training set based on the accurate prediction of the last training;\n",
    "        3. It assigns the higher weight to wrong classified observations so that in the next iteration these observations will get the high probability for classification;\n",
    "        4. Also, It assigns the weight to the trained classifier in each iteration according to the accuracy of the classifier. The more accurate classifier will get high weight\n",
    "        5. This process iterates until the complete training data fits without any error or until reached to the specified maximum number of estimators\n",
    "\n",
    "\n",
    "* Classificador [CASCADE](https://en.wikipedia.org/wiki/Cascading_classifiers) consiste em uma série de classificadores que identificam características individuais de um objeto, e, retornam em série os resultados de cada classificar. Caso todos os resultados forem positivos, o classificador CASCADE classifica o objeto como positivo."
   ]
  },
  {
   "cell_type": "code",
   "execution_count": null,
   "metadata": {},
   "outputs": [],
   "source": [
    "# python -m pip install numba cudatoolkit\n",
    "from numba import jit, cuda \n",
    "import numpy as np \n",
    "# to measure exec time \n",
    "from timeit import default_timer as timer    \n",
    "  \n",
    "# normal function to run on cpu \n",
    "def func(a):                                 \n",
    "    for i in range(10000000): \n",
    "        a[i]+= 1      \n",
    "  \n",
    "# function optimized to run on gpu  \n",
    "@jit(target_backend='cuda')                          \n",
    "def func2(a): \n",
    "    for i in range(10000000): \n",
    "        a[i]+= 1\n",
    "if __name__==\"__main__\": \n",
    "    n = 10000000                            \n",
    "    a = np.ones(n, dtype = np.float64) \n",
    "      \n",
    "    start = timer() \n",
    "    func(a) \n",
    "    print(\"without GPU:\", timer()-start)     \n",
    "      \n",
    "    start = timer() \n",
    "    func2(a) \n",
    "    print(\"with GPU:\", timer()-start) "
   ]
  },
  {
   "cell_type": "markdown",
   "metadata": {},
   "source": [
    "# Importando bibliotecas"
   ]
  },
  {
   "cell_type": "code",
   "execution_count": 1,
   "metadata": {},
   "outputs": [],
   "source": [
    "import os\n",
    "import cv2\n",
    "import dlib\n",
    "\n",
    "from cv2.typing import MatLike\n",
    "base_dir = os.path.join(os.getcwd(), 'datasets', 'playground', 'curso')"
   ]
  },
  {
   "cell_type": "code",
   "execution_count": 2,
   "metadata": {},
   "outputs": [],
   "source": [
    "def display_image(window_name: str, image: MatLike):\n",
    "    cv2.imshow(window_name, image)\n",
    "    cv2.waitKey(0)\n",
    "    cv2.destroyAllWindows()\n",
    "\n",
    "def convert_image_color(image: MatLike, color: int = cv2.COLOR_BGR2GRAY):\n",
    "    return cv2.cvtColor(image, color)"
   ]
  },
  {
   "cell_type": "markdown",
   "metadata": {},
   "source": [
    "## Testando o opencv"
   ]
  },
  {
   "cell_type": "code",
   "execution_count": 27,
   "metadata": {},
   "outputs": [
    {
     "data": {
      "text/plain": [
       "(1280, 1920, 3)"
      ]
     },
     "execution_count": 27,
     "metadata": {},
     "output_type": "execute_result"
    }
   ],
   "source": [
    "# Imagens podem ser encontradas em: https://drive.google.com/drive/folders/1AyJto3_9yWuR5JujFHE15-TZOt6uygzF?usp=sharing\n",
    "images_dir_path = os.path.join(\n",
    "    base_dir, 'Images'\n",
    ")\n",
    "\n",
    "image = cv2.imread(os.path.join(images_dir_path, 'people1.jpg'))\n",
    "image.shape"
   ]
  },
  {
   "cell_type": "code",
   "execution_count": 28,
   "metadata": {},
   "outputs": [],
   "source": [
    "display_image('image', image)"
   ]
  },
  {
   "cell_type": "code",
   "execution_count": 7,
   "metadata": {},
   "outputs": [],
   "source": [
    "# Reduz o tamanho para facilitar o processamento\n",
    "image = cv2.resize(image, (800, 600)) \n",
    "display_image('image', image)"
   ]
  },
  {
   "cell_type": "code",
   "execution_count": 8,
   "metadata": {},
   "outputs": [],
   "source": [
    "gray_image = convert_image_color(image)\n",
    "display_image('gray_image', gray_image)"
   ]
  },
  {
   "cell_type": "markdown",
   "metadata": {},
   "source": [
    "# Detecção de Faces - HaarCascade"
   ]
  },
  {
   "cell_type": "code",
   "execution_count": 7,
   "metadata": {},
   "outputs": [],
   "source": [
    "# Imagens podem ser encontradas em: https://drive.google.com/drive/folders/1AyJto3_9yWuR5JujFHE15-TZOt6uygzF?usp=sharing\n",
    "images_dir_path = os.path.join(base_dir, 'Images')\n",
    "\n",
    "image = cv2.imread(os.path.join(images_dir_path, 'people1.jpg'))\n",
    "gray_image = convert_image_color(image)\n",
    "\n",
    "# Carregando o classificador Cascade pre-definido pelo OpenCV\n",
    "cascade_dir = os.path.join(\n",
    "    base_dir, 'Cascades'\n",
    ")\n",
    "\n",
    "face_detector = cv2.CascadeClassifier(\n",
    "    os.path.join(cascade_dir, 'haarcascade_frontalface_default.xml')\n",
    ")\n"
   ]
  },
  {
   "cell_type": "code",
   "execution_count": 8,
   "metadata": {},
   "outputs": [
    {
     "data": {
      "text/plain": [
       "array([[1639,  159,  141,  141],\n",
       "       [ 928,  488,  172,  172],\n",
       "       [ 229,  509,  142,  142],\n",
       "       [ 284,  263,  113,  113],\n",
       "       [ 103,  784,   56,   56],\n",
       "       [  44,  919,   30,   30],\n",
       "       [1148,  261,  129,  129]])"
      ]
     },
     "execution_count": 8,
     "metadata": {},
     "output_type": "execute_result"
    }
   ],
   "source": [
    "haar_cascade_guesses = face_detector.detectMultiScale(\n",
    "    gray_image,\n",
    ")\n",
    "\n",
    "# Indica a posicao do objeto na imagem em que pode ser encontrada. Também indica largura e altura\n",
    "haar_cascade_guesses"
   ]
  },
  {
   "cell_type": "code",
   "execution_count": 9,
   "metadata": {},
   "outputs": [],
   "source": [
    "for guess in haar_cascade_guesses:\n",
    "    x = guess[0]\n",
    "    y = guess[1]\n",
    "    w = guess[2]\n",
    "    h = guess[3]\n",
    "\n",
    "    initial_pos = (x, y)\n",
    "    rect_color_bgr = (0, 255, 255)\n",
    "    rect_thickness = 3\n",
    "\n",
    "    cv2.rectangle(image, initial_pos, (x + w, y + h), rect_color_bgr, rect_thickness)\n",
    "    \n",
    "display_image('image', image)"
   ]
  },
  {
   "cell_type": "markdown",
   "metadata": {},
   "source": [
    "## Parâmetros HaarCascade"
   ]
  },
  {
   "cell_type": "code",
   "execution_count": 10,
   "metadata": {},
   "outputs": [],
   "source": [
    "images_dir_path = os.path.join(base_dir, 'Images')\n",
    "image = cv2.imread(os.path.join(images_dir_path, 'people2.jpg'))\n",
    "image = cv2.resize(image, (800, 600)) \n",
    "gray_image = convert_image_color(image)\n",
    "\n",
    "cascade_dir = os.path.join(base_dir, 'Cascades')\n",
    "face_detector = cv2.CascadeClassifier(os.path.join(cascade_dir, 'haarcascade_frontalface_default.xml'))\n",
    "guesses = face_detector.detectMultiScale(\n",
    "    image=gray_image,\n",
    "    # Indica que aumenta a escala da imagem. Util quando possui faces/objetos pequenos na imagem\n",
    "    # Diminuir o valor de escala quando a imagem for muito pequena. Não pode ser menor que 1.\n",
    "    scaleFactor=1.1,\n",
    "    # Número mínimo de vizinhos para considerar uma face, uma face. \n",
    "    # O algoritmo irá gerar 'minNeighbors' previsoes de um objeto e irá escolher a que melhor se adapta\n",
    "    # Maior o valor, maior será a certeza que uma face não é um falso positivo. \n",
    "    ## Em contra partida, pode acontecer que faces não sejam encontradas.\n",
    "    minNeighbors = 2,\n",
    "    # Tamanho mínimo que o objeto pode ser detectado.\n",
    "    minSize = (32,32),\n",
    "    # Tamanho mínimo que o objeto pode ser detectado.\n",
    "    maxSize = (100, 100)\n",
    ")\n",
    "\n",
    "for (x, y, w, h) in guesses:\n",
    "    cv2.rectangle(image, (x, y), (x+w, y+h), (0, 255, 0), 2)\n",
    "\n",
    "display_image('image', image)\n"
   ]
  },
  {
   "cell_type": "markdown",
   "metadata": {},
   "source": [
    "## Detecção de Olhos"
   ]
  },
  {
   "cell_type": "code",
   "execution_count": 11,
   "metadata": {},
   "outputs": [],
   "source": [
    "images_dir_path = os.path.join(base_dir, 'Images')\n",
    "image = cv2.imread(os.path.join(images_dir_path, 'people1.jpg'))\n",
    "# image = cv2.resize(image, (800, 600)) \n",
    "gray_image = convert_image_color(image)\n",
    "\n",
    "cascade_dir = os.path.join(base_dir, 'Cascades')\n",
    "face_detector = cv2.CascadeClassifier(os.path.join(cascade_dir, 'haarcascade_frontalface_default.xml'))\n",
    "eye_detector = cv2.CascadeClassifier(os.path.join(cascade_dir, 'haarcascade_eye.xml'))\n",
    "guesses = face_detector.detectMultiScale(\n",
    "    image=gray_image,\n",
    "    # Indica que aumenta a escala da imagem. Util quando possui faces/objetos pequenos na imagem\n",
    "    # Diminuir o valor de escala quando a imagem for muito pequena. Não pode ser menor que 1.\n",
    "    scaleFactor=1.3,\n",
    "    # Número mínimo de vizinhos para considerar uma face, uma face. \n",
    "    # O algoritmo irá gerar 'minNeighbors' previsoes de um objeto e irá escolher a que melhor se adapta\n",
    "    # Maior o valor, maior será a certeza que uma face não é um falso positivo. \n",
    "    ## Em contra partida, pode acontecer que faces não sejam encontradas.\n",
    "    minNeighbors = 2,\n",
    "    # Tamanho mínimo que o objeto pode ser detectado.\n",
    "    minSize = (32,32),\n",
    "    # Tamanho mínimo que o objeto pode ser detectado.\n",
    "    maxSize = (200, 200)\n",
    ")\n",
    "\n",
    "for (x, y, w, h) in guesses:\n",
    "    cv2.rectangle(image, (x, y), (x+w, y+h), (0, 255, 0), 2)\n",
    "\n",
    "eye_guesses = eye_detector.detectMultiScale(\n",
    "    image=gray_image,\n",
    "    scaleFactor=1.09,\n",
    "    minNeighbors = 10,\n",
    "    maxSize = (70, 70)\n",
    ")\n",
    "\n",
    "for (x, y, w, h) in eye_guesses:\n",
    "    cv2.rectangle(image, (x, y), (x+w, y+h), (0, 0, 255), 2)\n",
    "\n",
    "display_image('image', image)"
   ]
  },
  {
   "cell_type": "markdown",
   "metadata": {},
   "source": [
    "# HOG - Histogram of Oriented Gradients\n",
    "\n",
    "* [Mais detalhe](https://learnopencv.com/histogram-of-oriented-gradients/)\n",
    "\n",
    "* Derivada => Mede a variação das cores da imagem\n",
    "    * Derivada alta, permite identificar bordas\n",
    "\n",
    "* Gradiente => Direção que os valores da cores mudam\n",
    "\n",
    "* Histograma => Conta quantas vezes uma faixa de valores aparece em uma determinada matriz"
   ]
  },
  {
   "cell_type": "markdown",
   "metadata": {},
   "source": [
    "## Detecção de Faces com HOG"
   ]
  },
  {
   "cell_type": "code",
   "execution_count": 12,
   "metadata": {},
   "outputs": [],
   "source": [
    "# Imagens podem ser encontradas em: https://drive.google.com/drive/folders/1AyJto3_9yWuR5JujFHE15-TZOt6uygzF?usp=sharing\n",
    "images_dir_path = os.path.join(base_dir, 'Images')\n",
    "\n",
    "image = cv2.imread(os.path.join(images_dir_path, 'people1.jpg'))\n",
    "display_image('Image', image)"
   ]
  },
  {
   "cell_type": "code",
   "execution_count": 13,
   "metadata": {},
   "outputs": [],
   "source": [
    "face_hog_detector = dlib.get_frontal_face_detector()\n",
    "\n",
    "image_scale = 1.2\n",
    "hog_guesses = face_hog_detector(image, image_scale)\n",
    "\n",
    "for guess in hog_guesses:\n",
    "    left = guess.left()\n",
    "    top = guess.top()\n",
    "    right = guess.right()\n",
    "    bottom = guess.bottom()\n",
    "\n",
    "    cv2.rectangle(image, (left, top), (right, bottom), (0, 255, 0), 2)\n",
    "\n",
    "display_image('image', image)"
   ]
  },
  {
   "cell_type": "markdown",
   "metadata": {},
   "source": [
    "# CNN - Convolutional Neural Network"
   ]
  },
  {
   "cell_type": "code",
   "execution_count": 14,
   "metadata": {},
   "outputs": [],
   "source": [
    "images_dir_path = os.path.join(base_dir, 'Images')\n",
    "\n",
    "image = cv2.imread(os.path.join(images_dir_path, 'people2.jpg'))\n",
    "display_image('Image', image)"
   ]
  },
  {
   "cell_type": "code",
   "execution_count": 22,
   "metadata": {},
   "outputs": [],
   "source": [
    "face_cnn_detector = dlib.cnn_face_detection_model_v1(\n",
    "    os.path.join(base_dir, 'Weights', 'mmod_human_face_detector.dat')\n",
    ")\n",
    "\n",
    "cnn_guesses = face_cnn_detector(image, 1)"
   ]
  },
  {
   "cell_type": "code",
   "execution_count": 23,
   "metadata": {},
   "outputs": [],
   "source": [
    "for guess in cnn_guesses:\n",
    "    left = guess.rect.left()\n",
    "    top = guess.rect.top()\n",
    "    right = guess.rect.right()\n",
    "    bottom = guess.rect.bottom()\n",
    "    confidence = guess.confidence\n",
    "\n",
    "    cv2.rectangle(image, (left, top), (right, bottom), (0, 255, 0), 2)\n",
    "    cv2.putText(image, str(confidence), (left, top), cv2.FONT_HERSHEY_SIMPLEX, 1, (0, 0, 255), 2)\n",
    "\n",
    "display_image('image', image)"
   ]
  },
  {
   "cell_type": "markdown",
   "metadata": {},
   "source": [
    "# Comparativo HaarCascade vs HOG vs CNN"
   ]
  },
  {
   "cell_type": "code",
   "execution_count": 36,
   "metadata": {},
   "outputs": [],
   "source": [
    "images_dir_path = os.path.join(base_dir, 'Images')\n",
    "image = cv2.imread(os.path.join(images_dir_path, 'people3.jpg'))\n",
    "image = cv2.resize(image, (800, 600))\n",
    "image_gray = convert_image_color(image)\n",
    "# display_image('Image', image)"
   ]
  },
  {
   "cell_type": "code",
   "execution_count": 37,
   "metadata": {},
   "outputs": [],
   "source": [
    "cascade_dir = os.path.join(base_dir, 'Cascades')\n",
    "face_detector = cv2.CascadeClassifier(os.path.join(cascade_dir, 'haarcascade_frontalface_default.xml'))\n",
    "face_hog_detector = dlib.get_frontal_face_detector()\n",
    "face_cnn_detector = dlib.cnn_face_detection_model_v1(\n",
    "    os.path.join(base_dir, 'Weights', 'mmod_human_face_detector.dat')\n",
    ")\n"
   ]
  },
  {
   "cell_type": "code",
   "execution_count": 34,
   "metadata": {},
   "outputs": [
    {
     "name": "stdout",
     "output_type": "stream",
     "text": [
      "[[642 183  26  26]\n",
      " [557 205  26  26]\n",
      " [708 213  24  24]]\n"
     ]
    }
   ],
   "source": [
    "\n",
    "hc_guesses = face_detector.detectMultiScale(\n",
    "    image=image_gray,\n",
    "    scaleFactor=1.1,\n",
    "    # minNeighbors = 2,\n",
    "    # minSize = (32,32),\n",
    "    # maxSize = (100, 100)\n",
    ")\n",
    "\n",
    "print(hc_guesses)\n",
    "\n",
    "for (x, y, w, h) in hc_guesses:\n",
    "    cv2.rectangle(image, (x, y), (x+w, y+h), (255, 0, 0), 2)\n",
    "\n",
    "display_image('image', image)\n"
   ]
  },
  {
   "cell_type": "code",
   "execution_count": 42,
   "metadata": {},
   "outputs": [],
   "source": [
    "hog_guesses = face_hog_detector(image_gray, 1)\n",
    "for guess in hog_guesses:\n",
    "    print(guess)\n",
    "    left = guess.left()\n",
    "    top = guess.top()\n",
    "    right = guess.right()\n",
    "    bottom = guess.bottom()\n",
    "\n",
    "    cv2.rectangle(image, (left, top), (right, bottom), (0, 255, 0), 2)\n",
    "\n",
    "display_image('image', image)\n"
   ]
  },
  {
   "cell_type": "code",
   "execution_count": null,
   "metadata": {},
   "outputs": [],
   "source": [
    "cnn_guesses = face_cnn_detector(image_gray, 2)\n",
    "for guess in cnn_guesses:\n",
    "    left = guess.rect.left()\n",
    "    top = guess.rect.top()\n",
    "    right = guess.rect.right()\n",
    "    bottom = guess.rect.bottom()\n",
    "    confidence = guess.confidence\n",
    "\n",
    "    cv2.rectangle(image, (left, top), (right, bottom), (0, 0, 255), 2)\n",
    "    print(confidence)"
   ]
  }
 ],
 "metadata": {
  "kernelspec": {
   "display_name": "env",
   "language": "python",
   "name": "python3"
  },
  "language_info": {
   "codemirror_mode": {
    "name": "ipython",
    "version": 3
   },
   "file_extension": ".py",
   "mimetype": "text/x-python",
   "name": "python",
   "nbconvert_exporter": "python",
   "pygments_lexer": "ipython3",
   "version": "3.11.0"
  }
 },
 "nbformat": 4,
 "nbformat_minor": 2
}
