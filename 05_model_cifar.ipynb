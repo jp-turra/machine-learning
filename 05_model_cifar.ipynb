{
 "cells": [
  {
   "cell_type": "markdown",
   "metadata": {},
   "source": [
    "# Importação de bibliotecas"
   ]
  },
  {
   "cell_type": "code",
   "execution_count": 15,
   "metadata": {},
   "outputs": [],
   "source": [
    "import os\n",
    "# Run tensorflow on CPU. To run on GPU comment the line above and restart the kernel\n",
    "# os.environ['CUDA_VISIBLE_DEVICES'] = \"-1\"\n",
    "\n",
    "import pickle\n",
    "import numpy as np\n",
    "import pandas as pd\n",
    "import matplotlib.pyplot as plt\n",
    "\n",
    "from keras.api.datasets import cifar10\n",
    "from keras.api.models import Sequential\n",
    "from keras.api.layers import Input, Conv2D, MaxPooling2D, Flatten, Dense, BatchNormalization, Dropout\n",
    "from keras.api.utils import to_categorical\n",
    "\n",
    "# https://www.tensorflow.org/api_docs/python/tf/keras/preprocessing/image/ImageDataGenerator\n",
    "from tensorflow.keras.preprocessing.image import ImageDataGenerator\n",
    "from tensorflow._api.v2.image import rgb_to_grayscale\n",
    "\n",
    "from sklearn.model_selection import StratifiedKFold\n",
    "\n",
    "from typing import ByteString\n",
    "from enum import Enum\n",
    "\n",
    "from utils.model_utils import print_history, plot_history, plot_image"
   ]
  },
  {
   "cell_type": "markdown",
   "metadata": {},
   "source": [
    "# Importação do dataset"
   ]
  },
  {
   "cell_type": "code",
   "execution_count": 2,
   "metadata": {},
   "outputs": [],
   "source": [
    "def decode_pickle(file_path):\n",
    "    with open(file_path, 'rb') as file:\n",
    "        return pickle.load(file, encoding='bytes')"
   ]
  },
  {
   "cell_type": "code",
   "execution_count": 3,
   "metadata": {},
   "outputs": [],
   "source": [
    "datasets_dir_path = os.path.join(os.getcwd(), \"datasets\", \"cifar\")\n",
    "\n",
    "# TODO: Atualizar para pegar o caminho de todos os 5 datasets\n",
    "dataset_treinamento_1: dict = decode_pickle(os.path.join(datasets_dir_path, 'data_batch_1'))\n",
    "dataset_treinamento_2: dict = decode_pickle(os.path.join(datasets_dir_path, 'data_batch_2'))\n",
    "dataset_treinamento_3: dict = decode_pickle(os.path.join(datasets_dir_path, 'data_batch_3'))\n",
    "dataset_treinamento_4: dict = decode_pickle(os.path.join(datasets_dir_path, 'data_batch_4'))\n",
    "dataset_treinamento_5: dict = decode_pickle(os.path.join(datasets_dir_path, 'data_batch_5'))\n",
    "\n",
    "datasets_meta: dict = decode_pickle(os.path.join(datasets_dir_path, 'batches.meta'))\n",
    "dataset_validacao: dict = decode_pickle(os.path.join(datasets_dir_path, 'test_batch'))"
   ]
  },
  {
   "cell_type": "code",
   "execution_count": 4,
   "metadata": {},
   "outputs": [
    {
     "name": "stdout",
     "output_type": "stream",
     "text": [
      "Treinamento:  dict_keys([b'batch_label', b'labels', b'data', b'filenames'])\n",
      "Validacao:  dict_keys([b'batch_label', b'labels', b'data', b'filenames'])\n",
      "Meta:  dict_keys([b'num_cases_per_batch', b'label_names', b'num_vis'])\n"
     ]
    }
   ],
   "source": [
    "print(\"Treinamento: \", dataset_treinamento_1.keys())\n",
    "print(\"Validacao: \", dataset_validacao.keys())\n",
    "print(\"Meta: \", datasets_meta.keys())"
   ]
  },
  {
   "cell_type": "code",
   "execution_count": 5,
   "metadata": {},
   "outputs": [],
   "source": [
    "CIFAR_BATCH_LABEL = b'batch_label'\n",
    "CIFAR_LABELS = b'labels'\n",
    "CIFAR_DATA = b'data'\n",
    "CIFAR_FILENAMES = b'filenames'\n",
    "CIFAR_DATASET_SHAPE = (10000, 3, 32, 32)\n",
    "\n",
    "CIFAR_META_LABEL_NAME= b'label_names'\n",
    "CIFAR_META_NUM_CASES_PER_BATCH= b'num_cases_per_batch'\n",
    "CIFAR_META_NUM_VIS= b'num_vis'"
   ]
  },
  {
   "cell_type": "code",
   "execution_count": 6,
   "metadata": {},
   "outputs": [],
   "source": [
    "def get_label_name(label_index: np.int8) -> str:\n",
    "    return datasets_meta[CIFAR_META_LABEL_NAME][label_index].decode('utf-8')"
   ]
  },
  {
   "cell_type": "markdown",
   "metadata": {},
   "source": [
    "## Tratando os dados"
   ]
  },
  {
   "cell_type": "code",
   "execution_count": 7,
   "metadata": {},
   "outputs": [],
   "source": [
    "entrada_teste = np.array(dataset_validacao[CIFAR_DATA]).reshape(CIFAR_DATASET_SHAPE)\n",
    "saida_teste = np.array(dataset_validacao[CIFAR_LABELS])"
   ]
  },
  {
   "cell_type": "code",
   "execution_count": 8,
   "metadata": {},
   "outputs": [
    {
     "name": "stdout",
     "output_type": "stream",
     "text": [
      "(50000, 3, 32, 32)\n",
      "(50000,)\n",
      "(50000,)\n"
     ]
    }
   ],
   "source": [
    "entradas_1 = np.array(dataset_treinamento_1[CIFAR_DATA]).reshape(CIFAR_DATASET_SHAPE)\n",
    "saida_1 = np.array(dataset_treinamento_1[CIFAR_LABELS])\n",
    "nomes_1 = np.array(dataset_treinamento_1[CIFAR_FILENAMES])\n",
    "\n",
    "entradas_2 = np.array(dataset_treinamento_2[CIFAR_DATA]).reshape(CIFAR_DATASET_SHAPE)\n",
    "saida_2 = np.array(dataset_treinamento_2[CIFAR_LABELS])\n",
    "nomes_2 = np.array(dataset_treinamento_2[CIFAR_FILENAMES])\n",
    "\n",
    "entradas_3 = np.array(dataset_treinamento_3[CIFAR_DATA]).reshape(CIFAR_DATASET_SHAPE)\n",
    "saida_3 = np.array(dataset_treinamento_3[CIFAR_LABELS])\n",
    "nomes_3 = np.array(dataset_treinamento_3[CIFAR_FILENAMES])\n",
    "\n",
    "entradas_4 = np.array(dataset_treinamento_4[CIFAR_DATA]).reshape(CIFAR_DATASET_SHAPE)\n",
    "saida_4 = np.array(dataset_treinamento_4[CIFAR_LABELS])\n",
    "nomes_4 = np.array(dataset_treinamento_4[CIFAR_FILENAMES])\n",
    "\n",
    "entradas_5 = np.array(dataset_treinamento_5[CIFAR_DATA]).reshape(CIFAR_DATASET_SHAPE)\n",
    "saida_5 = np.array(dataset_treinamento_5[CIFAR_LABELS])\n",
    "nomes_5 = np.array(dataset_treinamento_5[CIFAR_FILENAMES])\n",
    "\n",
    "entradas = np.append(entradas_1, entradas_2, axis=0)\n",
    "entradas = np.append(entradas, entradas_3, axis=0)\n",
    "entradas = np.append(entradas, entradas_4, axis=0)\n",
    "entradas = np.append(entradas, entradas_5, axis=0)\n",
    "print(entradas.shape)\n",
    "\n",
    "saida = np.append(saida_1, saida_2, axis=0)\n",
    "saida = np.append(saida, saida_3, axis=0)\n",
    "saida = np.append(saida, saida_4, axis=0)\n",
    "saida = np.append(saida, saida_5, axis=0)\n",
    "print(saida.shape)\n",
    "\n",
    "nomes = np.append(nomes_1, nomes_2, axis=0)\n",
    "nomes = np.append(nomes, nomes_3, axis=0)\n",
    "nomes = np.append(nomes, nomes_4, axis=0)\n",
    "nomes = np.append(nomes, nomes_5, axis=0)\n",
    "print(nomes.shape)"
   ]
  },
  {
   "cell_type": "code",
   "execution_count": 9,
   "metadata": {},
   "outputs": [
    {
     "name": "stderr",
     "output_type": "stream",
     "text": [
      "WARNING: All log messages before absl::InitializeLog() is called are written to STDERR\n",
      "I0000 00:00:1721334345.351106  261060 cuda_executor.cc:1001] could not open file to read NUMA node: /sys/bus/pci/devices/0000:01:00.0/numa_node\n",
      "Your kernel may have been built without NUMA support.\n",
      "I0000 00:00:1721334345.384402  261060 cuda_executor.cc:1001] could not open file to read NUMA node: /sys/bus/pci/devices/0000:01:00.0/numa_node\n",
      "Your kernel may have been built without NUMA support.\n",
      "I0000 00:00:1721334345.384446  261060 cuda_executor.cc:1001] could not open file to read NUMA node: /sys/bus/pci/devices/0000:01:00.0/numa_node\n",
      "Your kernel may have been built without NUMA support.\n",
      "I0000 00:00:1721334345.386312  261060 cuda_executor.cc:1001] could not open file to read NUMA node: /sys/bus/pci/devices/0000:01:00.0/numa_node\n",
      "Your kernel may have been built without NUMA support.\n",
      "I0000 00:00:1721334345.386344  261060 cuda_executor.cc:1001] could not open file to read NUMA node: /sys/bus/pci/devices/0000:01:00.0/numa_node\n",
      "Your kernel may have been built without NUMA support.\n",
      "I0000 00:00:1721334345.386359  261060 cuda_executor.cc:1001] could not open file to read NUMA node: /sys/bus/pci/devices/0000:01:00.0/numa_node\n",
      "Your kernel may have been built without NUMA support.\n",
      "I0000 00:00:1721334345.514303  261060 cuda_executor.cc:1001] could not open file to read NUMA node: /sys/bus/pci/devices/0000:01:00.0/numa_node\n",
      "Your kernel may have been built without NUMA support.\n",
      "I0000 00:00:1721334345.514384  261060 cuda_executor.cc:1001] could not open file to read NUMA node: /sys/bus/pci/devices/0000:01:00.0/numa_node\n",
      "Your kernel may have been built without NUMA support.\n",
      "2024-07-18 17:25:45.514396: I tensorflow/core/common_runtime/gpu/gpu_device.cc:2112] Could not identify NUMA node of platform GPU id 0, defaulting to 0.  Your kernel may not have been built with NUMA support.\n",
      "I0000 00:00:1721334345.514436  261060 cuda_executor.cc:1001] could not open file to read NUMA node: /sys/bus/pci/devices/0000:01:00.0/numa_node\n",
      "Your kernel may have been built without NUMA support.\n",
      "2024-07-18 17:25:45.514458: I tensorflow/core/common_runtime/gpu/gpu_device.cc:2021] Created device /job:localhost/replica:0/task:0/device:GPU:0 with 1347 MB memory:  -> device: 0, name: NVIDIA GeForce MX450, pci bus id: 0000:01:00.0, compute capability: 7.5\n"
     ]
    },
    {
     "name": "stdout",
     "output_type": "stream",
     "text": [
      "Treinamento:  (50000, 32, 32, 1)\n",
      "Teste:  (10000, 32, 32, 1)\n"
     ]
    }
   ],
   "source": [
    "# Transformando para escala cinza\n",
    "entradas = entradas.astype('float32')\n",
    "entradas_transpose = np.transpose(entradas, [0, 2, 3, 1])\n",
    "entradas_gray = rgb_to_grayscale(\n",
    "    entradas_transpose\n",
    ").numpy()\n",
    "entradas_gray /= 255\n",
    "\n",
    "entrada_teste = entrada_teste.astype('float32')\n",
    "entrada_teste_transpose = np.transpose(entrada_teste, [0, 2, 3, 1])\n",
    "entrada_teste_gray = rgb_to_grayscale(\n",
    "    entrada_teste_transpose\n",
    ").numpy()\n",
    "entrada_teste_gray /= 255\n",
    "\n",
    "print(\"Treinamento: \", entradas_gray.shape)\n",
    "print(\"Teste: \", entrada_teste_gray.shape)\n"
   ]
  },
  {
   "cell_type": "markdown",
   "metadata": {},
   "source": [
    "## Visualizando alguns itens do dataset"
   ]
  },
  {
   "cell_type": "code",
   "execution_count": 10,
   "metadata": {},
   "outputs": [
    {
     "data": {
      "image/png": "[encoded data removed]",
      "text/plain": [
       "<Figure size 900x500 with 1 Axes>"
      ]
     },
     "metadata": {},
     "output_type": "display_data"
    }
   ],
   "source": [
    "image_index = np.random.randint(0, len(nomes))\n",
    "image_title = nomes[image_index]\n",
    "image_data = entradas_gray[image_index]\n",
    "image_label = saida[image_index]\n",
    "\n",
    "fig, ax = plt.subplots(figsize=(9,5), nrows=1, ncols=1)\n",
    "ax.set_title(f\"{image_title} - {get_label_name(image_label)}\")\n",
    "ax.imshow(image_data.astype('uint8'), cmap='grey')\n",
    "\n",
    "plt.show()"
   ]
  },
  {
   "cell_type": "code",
   "execution_count": 11,
   "metadata": {},
   "outputs": [],
   "source": [
    "# Aplicando OneHotEncoder\n",
    "saida_encoded = pd.get_dummies(saida)\n",
    "saida_teste_encoded = pd.get_dummies(saida)"
   ]
  },
  {
   "cell_type": "markdown",
   "metadata": {},
   "source": [
    "# Criando a Rede Neural Convolucional"
   ]
  },
  {
   "cell_type": "code",
   "execution_count": 12,
   "metadata": {},
   "outputs": [],
   "source": [
    "# Estrutura da rede\n",
    "## 1. Convolução\n",
    "## 2. Pooling (Max Pooling)\n",
    "## 3. Flattening\n",
    "## 4. Rede Neural Densa (Classificdor)\n",
    "\n",
    "def criar_modelo(shape_entrada = (32, 32, 1)):\n",
    "    sequencial = Sequential(\n",
    "        name=\"CIFAR-10\",\n",
    "        layers=[\n",
    "            Input(\n",
    "                shape=shape_entrada\n",
    "            )\n",
    "        ]\n",
    "    )\n",
    "\n",
    "    sequencial.add(\n",
    "        Conv2D(\n",
    "            filters=128,\n",
    "            kernel_size=(3, 3),\n",
    "            activation='relu'\n",
    "        )\n",
    "    )\n",
    "\n",
    "    sequencial.add(\n",
    "        BatchNormalization()\n",
    "    )\n",
    "\n",
    "    sequencial.add(\n",
    "        MaxPooling2D(\n",
    "            pool_size=(2, 2)\n",
    "        )\n",
    "    )\n",
    "\n",
    "    sequencial.add(\n",
    "        Flatten()\n",
    "    )\n",
    "\n",
    "    sequencial.add(\n",
    "        Dense(\n",
    "            units=256,\n",
    "            activation='relu',\n",
    "        )\n",
    "    )\n",
    "    sequencial.add(\n",
    "        Dropout(rate=0.2)\n",
    "    )\n",
    "\n",
    "    sequencial.add(\n",
    "        Dense(\n",
    "            units=256,\n",
    "            activation='relu',\n",
    "        )\n",
    "    )\n",
    "    sequencial.add(\n",
    "        Dropout(rate=0.2)\n",
    "    )\n",
    "\n",
    "    sequencial.add(\n",
    "        Dense(\n",
    "            units=10,\n",
    "            activation='softmax'\n",
    "        )\n",
    "    )\n",
    "\n",
    "    sequencial.compile(\n",
    "        optimizer='adam',\n",
    "        loss='categorical_crossentropy',\n",
    "        metrics=['accuracy']\n",
    "    )\n",
    "\n",
    "    return sequencial\n",
    "    "
   ]
  },
  {
   "cell_type": "code",
   "execution_count": 13,
   "metadata": {},
   "outputs": [],
   "source": [
    "modelo = criar_modelo(entradas_gray.shape[1:])"
   ]
  },
  {
   "cell_type": "code",
   "execution_count": 14,
   "metadata": {},
   "outputs": [
    {
     "name": "stdout",
     "output_type": "stream",
     "text": [
      "Epoch 1/100\n"
     ]
    },
    {
     "name": "stderr",
     "output_type": "stream",
     "text": [
      "WARNING: All log messages before absl::InitializeLog() is called are written to STDERR\n",
      "I0000 00:00:1721334439.435536  261300 service.cc:146] XLA service 0x7fecc800b860 initialized for platform CUDA (this does not guarantee that XLA will be used). Devices:\n",
      "I0000 00:00:1721334439.435595  261300 service.cc:154]   StreamExecutor device (0): NVIDIA GeForce MX450, Compute Capability 7.5\n",
      "2024-07-18 17:27:19.470230: I tensorflow/compiler/mlir/tensorflow/utils/dump_mlir_util.cc:268] disabling MLIR crash reproducer, set env var `MLIR_CRASH_REPRODUCER_DIRECTORY` to enable.\n",
      "2024-07-18 17:27:19.615146: I external/local_xla/xla/stream_executor/cuda/cuda_dnn.cc:531] Loaded cuDNN version 8907\n"
     ]
    },
    {
     "name": "stdout",
     "output_type": "stream",
     "text": [
      "\u001b[1m  5/391\u001b[0m \u001b[37m━━━━━━━━━━━━━━━━━━━━\u001b[0m \u001b[1m13s\u001b[0m 36ms/step - accuracy: 0.1345 - loss: 3.1365"
     ]
    },
    {
     "name": "stderr",
     "output_type": "stream",
     "text": [
      "I0000 00:00:1721334442.419382  261300 device_compiler.h:188] Compiled cluster using XLA!  This line is logged at most once for the lifetime of the process.\n"
     ]
    },
    {
     "name": "stdout",
     "output_type": "stream",
     "text": [
      "\u001b[1m391/391\u001b[0m \u001b[32m━━━━━━━━━━━━━━━━━━━━\u001b[0m\u001b[37m\u001b[0m \u001b[1m21s\u001b[0m 43ms/step - accuracy: 0.3840 - loss: 1.8117\n",
      "Epoch 2/100\n",
      "\u001b[1m391/391\u001b[0m \u001b[32m━━━━━━━━━━━━━━━━━━━━\u001b[0m\u001b[37m\u001b[0m \u001b[1m14s\u001b[0m 35ms/step - accuracy: 0.6026 - loss: 1.1348\n",
      "Epoch 3/100\n",
      "\u001b[1m391/391\u001b[0m \u001b[32m━━━━━━━━━━━━━━━━━━━━\u001b[0m\u001b[37m\u001b[0m \u001b[1m14s\u001b[0m 35ms/step - accuracy: 0.6903 - loss: 0.8937\n",
      "Epoch 4/100\n",
      "\u001b[1m391/391\u001b[0m \u001b[32m━━━━━━━━━━━━━━━━━━━━\u001b[0m\u001b[37m\u001b[0m \u001b[1m14s\u001b[0m 36ms/step - accuracy: 0.7561 - loss: 0.7043\n",
      "Epoch 5/100\n",
      "\u001b[1m391/391\u001b[0m \u001b[32m━━━━━━━━━━━━━━━━━━━━\u001b[0m\u001b[37m\u001b[0m \u001b[1m14s\u001b[0m 35ms/step - accuracy: 0.8144 - loss: 0.5396\n",
      "Epoch 6/100\n",
      "\u001b[1m391/391\u001b[0m \u001b[32m━━━━━━━━━━━━━━━━━━━━\u001b[0m\u001b[37m\u001b[0m \u001b[1m14s\u001b[0m 36ms/step - accuracy: 0.8540 - loss: 0.4281\n",
      "Epoch 7/100\n",
      "\u001b[1m391/391\u001b[0m \u001b[32m━━━━━━━━━━━━━━━━━━━━\u001b[0m\u001b[37m\u001b[0m \u001b[1m14s\u001b[0m 36ms/step - accuracy: 0.8853 - loss: 0.3366\n",
      "Epoch 8/100\n",
      "\u001b[1m391/391\u001b[0m \u001b[32m━━━━━━━━━━━━━━━━━━━━\u001b[0m\u001b[37m\u001b[0m \u001b[1m14s\u001b[0m 35ms/step - accuracy: 0.9007 - loss: 0.2870\n",
      "Epoch 9/100\n",
      "\u001b[1m391/391\u001b[0m \u001b[32m━━━━━━━━━━━━━━━━━━━━\u001b[0m\u001b[37m\u001b[0m \u001b[1m14s\u001b[0m 35ms/step - accuracy: 0.9198 - loss: 0.2410\n",
      "Epoch 10/100\n",
      "\u001b[1m391/391\u001b[0m \u001b[32m━━━━━━━━━━━━━━━━━━━━\u001b[0m\u001b[37m\u001b[0m \u001b[1m14s\u001b[0m 36ms/step - accuracy: 0.9299 - loss: 0.2082\n",
      "Epoch 11/100\n",
      "\u001b[1m391/391\u001b[0m \u001b[32m━━━━━━━━━━━━━━━━━━━━\u001b[0m\u001b[37m\u001b[0m \u001b[1m14s\u001b[0m 36ms/step - accuracy: 0.9370 - loss: 0.1913\n",
      "Epoch 12/100\n",
      "\u001b[1m391/391\u001b[0m \u001b[32m━━━━━━━━━━━━━━━━━━━━\u001b[0m\u001b[37m\u001b[0m \u001b[1m14s\u001b[0m 35ms/step - accuracy: 0.9418 - loss: 0.1761\n",
      "Epoch 13/100\n",
      "\u001b[1m391/391\u001b[0m \u001b[32m━━━━━━━━━━━━━━━━━━━━\u001b[0m\u001b[37m\u001b[0m \u001b[1m14s\u001b[0m 35ms/step - accuracy: 0.9482 - loss: 0.1603\n",
      "Epoch 14/100\n",
      "\u001b[1m391/391\u001b[0m \u001b[32m━━━━━━━━━━━━━━━━━━━━\u001b[0m\u001b[37m\u001b[0m \u001b[1m14s\u001b[0m 35ms/step - accuracy: 0.9494 - loss: 0.1561\n",
      "Epoch 15/100\n",
      "\u001b[1m391/391\u001b[0m \u001b[32m━━━━━━━━━━━━━━━━━━━━\u001b[0m\u001b[37m\u001b[0m \u001b[1m14s\u001b[0m 36ms/step - accuracy: 0.9503 - loss: 0.1518\n",
      "Epoch 16/100\n",
      "\u001b[1m391/391\u001b[0m \u001b[32m━━━━━━━━━━━━━━━━━━━━\u001b[0m\u001b[37m\u001b[0m \u001b[1m14s\u001b[0m 35ms/step - accuracy: 0.9594 - loss: 0.1254\n",
      "Epoch 17/100\n",
      "\u001b[1m391/391\u001b[0m \u001b[32m━━━━━━━━━━━━━━━━━━━━\u001b[0m\u001b[37m\u001b[0m \u001b[1m14s\u001b[0m 36ms/step - accuracy: 0.9582 - loss: 0.1269\n",
      "Epoch 18/100\n",
      "\u001b[1m391/391\u001b[0m \u001b[32m━━━━━━━━━━━━━━━━━━━━\u001b[0m\u001b[37m\u001b[0m \u001b[1m14s\u001b[0m 36ms/step - accuracy: 0.9593 - loss: 0.1247\n",
      "Epoch 19/100\n",
      "\u001b[1m391/391\u001b[0m \u001b[32m━━━━━━━━━━━━━━━━━━━━\u001b[0m\u001b[37m\u001b[0m \u001b[1m14s\u001b[0m 36ms/step - accuracy: 0.9638 - loss: 0.1136\n",
      "Epoch 20/100\n",
      "\u001b[1m391/391\u001b[0m \u001b[32m━━━━━━━━━━━━━━━━━━━━\u001b[0m\u001b[37m\u001b[0m \u001b[1m14s\u001b[0m 36ms/step - accuracy: 0.9602 - loss: 0.1258\n",
      "Epoch 21/100\n",
      "\u001b[1m391/391\u001b[0m \u001b[32m━━━━━━━━━━━━━━━━━━━━\u001b[0m\u001b[37m\u001b[0m \u001b[1m14s\u001b[0m 36ms/step - accuracy: 0.9652 - loss: 0.1080\n",
      "Epoch 22/100\n",
      "\u001b[1m391/391\u001b[0m \u001b[32m━━━━━━━━━━━━━━━━━━━━\u001b[0m\u001b[37m\u001b[0m \u001b[1m14s\u001b[0m 36ms/step - accuracy: 0.9667 - loss: 0.1035\n",
      "Epoch 23/100\n",
      "\u001b[1m391/391\u001b[0m \u001b[32m━━━━━━━━━━━━━━━━━━━━\u001b[0m\u001b[37m\u001b[0m \u001b[1m14s\u001b[0m 36ms/step - accuracy: 0.9662 - loss: 0.1091\n",
      "Epoch 24/100\n",
      "\u001b[1m391/391\u001b[0m \u001b[32m━━━━━━━━━━━━━━━━━━━━\u001b[0m\u001b[37m\u001b[0m \u001b[1m14s\u001b[0m 35ms/step - accuracy: 0.9677 - loss: 0.1039\n",
      "Epoch 25/100\n",
      "\u001b[1m391/391\u001b[0m \u001b[32m━━━━━━━━━━━━━━━━━━━━\u001b[0m\u001b[37m\u001b[0m \u001b[1m14s\u001b[0m 36ms/step - accuracy: 0.9704 - loss: 0.0932\n",
      "Epoch 26/100\n",
      "\u001b[1m391/391\u001b[0m \u001b[32m━━━━━━━━━━━━━━━━━━━━\u001b[0m\u001b[37m\u001b[0m \u001b[1m14s\u001b[0m 35ms/step - accuracy: 0.9699 - loss: 0.0980\n",
      "Epoch 27/100\n",
      "\u001b[1m391/391\u001b[0m \u001b[32m━━━━━━━━━━━━━━━━━━━━\u001b[0m\u001b[37m\u001b[0m \u001b[1m14s\u001b[0m 35ms/step - accuracy: 0.9710 - loss: 0.0927\n",
      "Epoch 28/100\n",
      "\u001b[1m391/391\u001b[0m \u001b[32m━━━━━━━━━━━━━━━━━━━━\u001b[0m\u001b[37m\u001b[0m \u001b[1m14s\u001b[0m 35ms/step - accuracy: 0.9744 - loss: 0.0842\n",
      "Epoch 29/100\n",
      "\u001b[1m391/391\u001b[0m \u001b[32m━━━━━━━━━━━━━━━━━━━━\u001b[0m\u001b[37m\u001b[0m \u001b[1m14s\u001b[0m 35ms/step - accuracy: 0.9720 - loss: 0.0935\n",
      "Epoch 30/100\n",
      "\u001b[1m391/391\u001b[0m \u001b[32m━━━━━━━━━━━━━━━━━━━━\u001b[0m\u001b[37m\u001b[0m \u001b[1m14s\u001b[0m 35ms/step - accuracy: 0.9740 - loss: 0.0824\n",
      "Epoch 31/100\n",
      "\u001b[1m391/391\u001b[0m \u001b[32m━━━━━━━━━━━━━━━━━━━━\u001b[0m\u001b[37m\u001b[0m \u001b[1m14s\u001b[0m 35ms/step - accuracy: 0.9722 - loss: 0.0906\n",
      "Epoch 32/100\n",
      "\u001b[1m391/391\u001b[0m \u001b[32m━━━━━━━━━━━━━━━━━━━━\u001b[0m\u001b[37m\u001b[0m \u001b[1m14s\u001b[0m 35ms/step - accuracy: 0.9761 - loss: 0.0840\n",
      "Epoch 33/100\n",
      "\u001b[1m391/391\u001b[0m \u001b[32m━━━━━━━━━━━━━━━━━━━━\u001b[0m\u001b[37m\u001b[0m \u001b[1m14s\u001b[0m 35ms/step - accuracy: 0.9748 - loss: 0.0791\n",
      "Epoch 34/100\n",
      "\u001b[1m391/391\u001b[0m \u001b[32m━━━━━━━━━━━━━━━━━━━━\u001b[0m\u001b[37m\u001b[0m \u001b[1m14s\u001b[0m 35ms/step - accuracy: 0.9789 - loss: 0.0657\n",
      "Epoch 35/100\n",
      "\u001b[1m391/391\u001b[0m \u001b[32m━━━━━━━━━━━━━━━━━━━━\u001b[0m\u001b[37m\u001b[0m \u001b[1m14s\u001b[0m 35ms/step - accuracy: 0.9759 - loss: 0.0793\n",
      "Epoch 36/100\n",
      "\u001b[1m391/391\u001b[0m \u001b[32m━━━━━━━━━━━━━━━━━━━━\u001b[0m\u001b[37m\u001b[0m \u001b[1m14s\u001b[0m 35ms/step - accuracy: 0.9758 - loss: 0.0783\n",
      "Epoch 37/100\n",
      "\u001b[1m391/391\u001b[0m \u001b[32m━━━━━━━━━━━━━━━━━━━━\u001b[0m\u001b[37m\u001b[0m \u001b[1m14s\u001b[0m 35ms/step - accuracy: 0.9793 - loss: 0.0706\n",
      "Epoch 38/100\n",
      "\u001b[1m391/391\u001b[0m \u001b[32m━━━━━━━━━━━━━━━━━━━━\u001b[0m\u001b[37m\u001b[0m \u001b[1m14s\u001b[0m 35ms/step - accuracy: 0.9786 - loss: 0.0716\n",
      "Epoch 39/100\n",
      "\u001b[1m391/391\u001b[0m \u001b[32m━━━━━━━━━━━━━━━━━━━━\u001b[0m\u001b[37m\u001b[0m \u001b[1m14s\u001b[0m 35ms/step - accuracy: 0.9789 - loss: 0.0679\n",
      "Epoch 40/100\n",
      "\u001b[1m391/391\u001b[0m \u001b[32m━━━━━━━━━━━━━━━━━━━━\u001b[0m\u001b[37m\u001b[0m \u001b[1m14s\u001b[0m 35ms/step - accuracy: 0.9768 - loss: 0.0763\n",
      "Epoch 41/100\n",
      "\u001b[1m391/391\u001b[0m \u001b[32m━━━━━━━━━━━━━━━━━━━━\u001b[0m\u001b[37m\u001b[0m \u001b[1m14s\u001b[0m 35ms/step - accuracy: 0.9770 - loss: 0.0774\n",
      "Epoch 42/100\n",
      "\u001b[1m391/391\u001b[0m \u001b[32m━━━━━━━━━━━━━━━━━━━━\u001b[0m\u001b[37m\u001b[0m \u001b[1m14s\u001b[0m 35ms/step - accuracy: 0.9805 - loss: 0.0649\n",
      "Epoch 43/100\n",
      "\u001b[1m391/391\u001b[0m \u001b[32m━━━━━━━━━━━━━━━━━━━━\u001b[0m\u001b[37m\u001b[0m \u001b[1m14s\u001b[0m 36ms/step - accuracy: 0.9796 - loss: 0.0690\n",
      "Epoch 44/100\n",
      "\u001b[1m391/391\u001b[0m \u001b[32m━━━━━━━━━━━━━━━━━━━━\u001b[0m\u001b[37m\u001b[0m \u001b[1m14s\u001b[0m 35ms/step - accuracy: 0.9812 - loss: 0.0637\n",
      "Epoch 45/100\n",
      "\u001b[1m391/391\u001b[0m \u001b[32m━━━━━━━━━━━━━━━━━━━━\u001b[0m\u001b[37m\u001b[0m \u001b[1m14s\u001b[0m 35ms/step - accuracy: 0.9804 - loss: 0.0648\n",
      "Epoch 46/100\n",
      "\u001b[1m391/391\u001b[0m \u001b[32m━━━━━━━━━━━━━━━━━━━━\u001b[0m\u001b[37m\u001b[0m \u001b[1m14s\u001b[0m 35ms/step - accuracy: 0.9835 - loss: 0.0566\n",
      "Epoch 47/100\n",
      "\u001b[1m391/391\u001b[0m \u001b[32m━━━━━━━━━━━━━━━━━━━━\u001b[0m\u001b[37m\u001b[0m \u001b[1m14s\u001b[0m 35ms/step - accuracy: 0.9836 - loss: 0.0567\n",
      "Epoch 48/100\n",
      "\u001b[1m391/391\u001b[0m \u001b[32m━━━━━━━━━━━━━━━━━━━━\u001b[0m\u001b[37m\u001b[0m \u001b[1m14s\u001b[0m 35ms/step - accuracy: 0.9800 - loss: 0.0686\n",
      "Epoch 49/100\n",
      "\u001b[1m391/391\u001b[0m \u001b[32m━━━━━━━━━━━━━━━━━━━━\u001b[0m\u001b[37m\u001b[0m \u001b[1m14s\u001b[0m 35ms/step - accuracy: 0.9797 - loss: 0.0658\n",
      "Epoch 50/100\n",
      "\u001b[1m391/391\u001b[0m \u001b[32m━━━━━━━━━━━━━━━━━━━━\u001b[0m\u001b[37m\u001b[0m \u001b[1m14s\u001b[0m 35ms/step - accuracy: 0.9817 - loss: 0.0601\n",
      "Epoch 51/100\n",
      "\u001b[1m391/391\u001b[0m \u001b[32m━━━━━━━━━━━━━━━━━━━━\u001b[0m\u001b[37m\u001b[0m \u001b[1m14s\u001b[0m 36ms/step - accuracy: 0.9825 - loss: 0.0616\n",
      "Epoch 52/100\n",
      "\u001b[1m391/391\u001b[0m \u001b[32m━━━━━━━━━━━━━━━━━━━━\u001b[0m\u001b[37m\u001b[0m \u001b[1m14s\u001b[0m 36ms/step - accuracy: 0.9803 - loss: 0.0711\n",
      "Epoch 53/100\n",
      "\u001b[1m391/391\u001b[0m \u001b[32m━━━━━━━━━━━━━━━━━━━━\u001b[0m\u001b[37m\u001b[0m \u001b[1m14s\u001b[0m 36ms/step - accuracy: 0.9820 - loss: 0.0591\n",
      "Epoch 54/100\n",
      "\u001b[1m391/391\u001b[0m \u001b[32m━━━━━━━━━━━━━━━━━━━━\u001b[0m\u001b[37m\u001b[0m \u001b[1m14s\u001b[0m 36ms/step - accuracy: 0.9833 - loss: 0.0558\n",
      "Epoch 55/100\n",
      "\u001b[1m391/391\u001b[0m \u001b[32m━━━━━━━━━━━━━━━━━━━━\u001b[0m\u001b[37m\u001b[0m \u001b[1m14s\u001b[0m 36ms/step - accuracy: 0.9835 - loss: 0.0584\n",
      "Epoch 56/100\n",
      "\u001b[1m391/391\u001b[0m \u001b[32m━━━━━━━━━━━━━━━━━━━━\u001b[0m\u001b[37m\u001b[0m \u001b[1m14s\u001b[0m 36ms/step - accuracy: 0.9830 - loss: 0.0559\n",
      "Epoch 57/100\n",
      "\u001b[1m391/391\u001b[0m \u001b[32m━━━━━━━━━━━━━━━━━━━━\u001b[0m\u001b[37m\u001b[0m \u001b[1m14s\u001b[0m 35ms/step - accuracy: 0.9832 - loss: 0.0577\n",
      "Epoch 58/100\n",
      "\u001b[1m391/391\u001b[0m \u001b[32m━━━━━━━━━━━━━━━━━━━━\u001b[0m\u001b[37m\u001b[0m \u001b[1m14s\u001b[0m 35ms/step - accuracy: 0.9841 - loss: 0.0548\n",
      "Epoch 59/100\n",
      "\u001b[1m391/391\u001b[0m \u001b[32m━━━━━━━━━━━━━━━━━━━━\u001b[0m\u001b[37m\u001b[0m \u001b[1m14s\u001b[0m 35ms/step - accuracy: 0.9845 - loss: 0.0534\n",
      "Epoch 60/100\n",
      "\u001b[1m391/391\u001b[0m \u001b[32m━━━━━━━━━━━━━━━━━━━━\u001b[0m\u001b[37m\u001b[0m \u001b[1m14s\u001b[0m 35ms/step - accuracy: 0.9838 - loss: 0.0546\n",
      "Epoch 61/100\n",
      "\u001b[1m391/391\u001b[0m \u001b[32m━━━━━━━━━━━━━━━━━━━━\u001b[0m\u001b[37m\u001b[0m \u001b[1m14s\u001b[0m 35ms/step - accuracy: 0.9838 - loss: 0.0565\n",
      "Epoch 62/100\n",
      "\u001b[1m391/391\u001b[0m \u001b[32m━━━━━━━━━━━━━━━━━━━━\u001b[0m\u001b[37m\u001b[0m \u001b[1m14s\u001b[0m 36ms/step - accuracy: 0.9829 - loss: 0.0616\n",
      "Epoch 63/100\n",
      "\u001b[1m391/391\u001b[0m \u001b[32m━━━━━━━━━━━━━━━━━━━━\u001b[0m\u001b[37m\u001b[0m \u001b[1m14s\u001b[0m 36ms/step - accuracy: 0.9858 - loss: 0.0519\n",
      "Epoch 64/100\n",
      "\u001b[1m391/391\u001b[0m \u001b[32m━━━━━━━━━━━━━━━━━━━━\u001b[0m\u001b[37m\u001b[0m \u001b[1m14s\u001b[0m 36ms/step - accuracy: 0.9839 - loss: 0.0568\n",
      "Epoch 65/100\n",
      "\u001b[1m391/391\u001b[0m \u001b[32m━━━━━━━━━━━━━━━━━━━━\u001b[0m\u001b[37m\u001b[0m \u001b[1m14s\u001b[0m 36ms/step - accuracy: 0.9846 - loss: 0.0529\n",
      "Epoch 66/100\n",
      "\u001b[1m391/391\u001b[0m \u001b[32m━━━━━━━━━━━━━━━━━━━━\u001b[0m\u001b[37m\u001b[0m \u001b[1m14s\u001b[0m 36ms/step - accuracy: 0.9876 - loss: 0.0464\n",
      "Epoch 67/100\n",
      "\u001b[1m391/391\u001b[0m \u001b[32m━━━━━━━━━━━━━━━━━━━━\u001b[0m\u001b[37m\u001b[0m \u001b[1m14s\u001b[0m 35ms/step - accuracy: 0.9854 - loss: 0.0516\n",
      "Epoch 68/100\n",
      "\u001b[1m391/391\u001b[0m \u001b[32m━━━━━━━━━━━━━━━━━━━━\u001b[0m\u001b[37m\u001b[0m \u001b[1m14s\u001b[0m 37ms/step - accuracy: 0.9858 - loss: 0.0490\n",
      "Epoch 69/100\n",
      "\u001b[1m391/391\u001b[0m \u001b[32m━━━━━━━━━━━━━━━━━━━━\u001b[0m\u001b[37m\u001b[0m \u001b[1m14s\u001b[0m 37ms/step - accuracy: 0.9842 - loss: 0.0571\n",
      "Epoch 70/100\n",
      "\u001b[1m391/391\u001b[0m \u001b[32m━━━━━━━━━━━━━━━━━━━━\u001b[0m\u001b[37m\u001b[0m \u001b[1m14s\u001b[0m 35ms/step - accuracy: 0.9863 - loss: 0.0482\n",
      "Epoch 71/100\n",
      "\u001b[1m391/391\u001b[0m \u001b[32m━━━━━━━━━━━━━━━━━━━━\u001b[0m\u001b[37m\u001b[0m \u001b[1m14s\u001b[0m 35ms/step - accuracy: 0.9860 - loss: 0.0471\n",
      "Epoch 72/100\n",
      "\u001b[1m391/391\u001b[0m \u001b[32m━━━━━━━━━━━━━━━━━━━━\u001b[0m\u001b[37m\u001b[0m \u001b[1m14s\u001b[0m 35ms/step - accuracy: 0.9857 - loss: 0.0498\n",
      "Epoch 73/100\n",
      "\u001b[1m391/391\u001b[0m \u001b[32m━━━━━━━━━━━━━━━━━━━━\u001b[0m\u001b[37m\u001b[0m \u001b[1m14s\u001b[0m 35ms/step - accuracy: 0.9858 - loss: 0.0482\n",
      "Epoch 74/100\n",
      "\u001b[1m391/391\u001b[0m \u001b[32m━━━━━━━━━━━━━━━━━━━━\u001b[0m\u001b[37m\u001b[0m \u001b[1m14s\u001b[0m 35ms/step - accuracy: 0.9853 - loss: 0.0527\n",
      "Epoch 75/100\n",
      "\u001b[1m391/391\u001b[0m \u001b[32m━━━━━━━━━━━━━━━━━━━━\u001b[0m\u001b[37m\u001b[0m \u001b[1m14s\u001b[0m 35ms/step - accuracy: 0.9852 - loss: 0.0510\n",
      "Epoch 76/100\n",
      "\u001b[1m391/391\u001b[0m \u001b[32m━━━━━━━━━━━━━━━━━━━━\u001b[0m\u001b[37m\u001b[0m \u001b[1m14s\u001b[0m 35ms/step - accuracy: 0.9866 - loss: 0.0461\n",
      "Epoch 77/100\n",
      "\u001b[1m391/391\u001b[0m \u001b[32m━━━━━━━━━━━━━━━━━━━━\u001b[0m\u001b[37m\u001b[0m \u001b[1m14s\u001b[0m 35ms/step - accuracy: 0.9867 - loss: 0.0459\n",
      "Epoch 78/100\n",
      "\u001b[1m391/391\u001b[0m \u001b[32m━━━━━━━━━━━━━━━━━━━━\u001b[0m\u001b[37m\u001b[0m \u001b[1m14s\u001b[0m 35ms/step - accuracy: 0.9876 - loss: 0.0464\n",
      "Epoch 79/100\n",
      "\u001b[1m391/391\u001b[0m \u001b[32m━━━━━━━━━━━━━━━━━━━━\u001b[0m\u001b[37m\u001b[0m \u001b[1m14s\u001b[0m 35ms/step - accuracy: 0.9885 - loss: 0.0444\n",
      "Epoch 80/100\n",
      "\u001b[1m391/391\u001b[0m \u001b[32m━━━━━━━━━━━━━━━━━━━━\u001b[0m\u001b[37m\u001b[0m \u001b[1m14s\u001b[0m 35ms/step - accuracy: 0.9886 - loss: 0.0403\n",
      "Epoch 81/100\n",
      "\u001b[1m391/391\u001b[0m \u001b[32m━━━━━━━━━━━━━━━━━━━━\u001b[0m\u001b[37m\u001b[0m \u001b[1m14s\u001b[0m 35ms/step - accuracy: 0.9879 - loss: 0.0405\n",
      "Epoch 82/100\n",
      "\u001b[1m391/391\u001b[0m \u001b[32m━━━━━━━━━━━━━━━━━━━━\u001b[0m\u001b[37m\u001b[0m \u001b[1m14s\u001b[0m 36ms/step - accuracy: 0.9871 - loss: 0.0495\n",
      "Epoch 83/100\n",
      "\u001b[1m391/391\u001b[0m \u001b[32m━━━━━━━━━━━━━━━━━━━━\u001b[0m\u001b[37m\u001b[0m \u001b[1m14s\u001b[0m 35ms/step - accuracy: 0.9893 - loss: 0.0369\n",
      "Epoch 84/100\n",
      "\u001b[1m391/391\u001b[0m \u001b[32m━━━━━━━━━━━━━━━━━━━━\u001b[0m\u001b[37m\u001b[0m \u001b[1m14s\u001b[0m 36ms/step - accuracy: 0.9865 - loss: 0.0485\n",
      "Epoch 85/100\n",
      "\u001b[1m391/391\u001b[0m \u001b[32m━━━━━━━━━━━━━━━━━━━━\u001b[0m\u001b[37m\u001b[0m \u001b[1m14s\u001b[0m 36ms/step - accuracy: 0.9884 - loss: 0.0394\n",
      "Epoch 86/100\n",
      "\u001b[1m391/391\u001b[0m \u001b[32m━━━━━━━━━━━━━━━━━━━━\u001b[0m\u001b[37m\u001b[0m \u001b[1m14s\u001b[0m 36ms/step - accuracy: 0.9877 - loss: 0.0466\n",
      "Epoch 87/100\n",
      "\u001b[1m391/391\u001b[0m \u001b[32m━━━━━━━━━━━━━━━━━━━━\u001b[0m\u001b[37m\u001b[0m \u001b[1m14s\u001b[0m 36ms/step - accuracy: 0.9882 - loss: 0.0427\n",
      "Epoch 88/100\n",
      "\u001b[1m391/391\u001b[0m \u001b[32m━━━━━━━━━━━━━━━━━━━━\u001b[0m\u001b[37m\u001b[0m \u001b[1m14s\u001b[0m 36ms/step - accuracy: 0.9894 - loss: 0.0402\n",
      "Epoch 89/100\n",
      "\u001b[1m391/391\u001b[0m \u001b[32m━━━━━━━━━━━━━━━━━━━━\u001b[0m\u001b[37m\u001b[0m \u001b[1m14s\u001b[0m 36ms/step - accuracy: 0.9891 - loss: 0.0402\n",
      "Epoch 90/100\n",
      "\u001b[1m391/391\u001b[0m \u001b[32m━━━━━━━━━━━━━━━━━━━━\u001b[0m\u001b[37m\u001b[0m \u001b[1m14s\u001b[0m 36ms/step - accuracy: 0.9894 - loss: 0.0416\n",
      "Epoch 91/100\n",
      "\u001b[1m391/391\u001b[0m \u001b[32m━━━━━━━━━━━━━━━━━━━━\u001b[0m\u001b[37m\u001b[0m \u001b[1m14s\u001b[0m 36ms/step - accuracy: 0.9895 - loss: 0.0417\n",
      "Epoch 92/100\n",
      "\u001b[1m391/391\u001b[0m \u001b[32m━━━━━━━━━━━━━━━━━━━━\u001b[0m\u001b[37m\u001b[0m \u001b[1m14s\u001b[0m 35ms/step - accuracy: 0.9869 - loss: 0.0499\n",
      "Epoch 93/100\n",
      "\u001b[1m391/391\u001b[0m \u001b[32m━━━━━━━━━━━━━━━━━━━━\u001b[0m\u001b[37m\u001b[0m \u001b[1m14s\u001b[0m 36ms/step - accuracy: 0.9869 - loss: 0.0490\n",
      "Epoch 94/100\n",
      "\u001b[1m391/391\u001b[0m \u001b[32m━━━━━━━━━━━━━━━━━━━━\u001b[0m\u001b[37m\u001b[0m \u001b[1m14s\u001b[0m 36ms/step - accuracy: 0.9895 - loss: 0.0410\n",
      "Epoch 95/100\n",
      "\u001b[1m391/391\u001b[0m \u001b[32m━━━━━━━━━━━━━━━━━━━━\u001b[0m\u001b[37m\u001b[0m \u001b[1m14s\u001b[0m 36ms/step - accuracy: 0.9891 - loss: 0.0394\n",
      "Epoch 96/100\n",
      "\u001b[1m391/391\u001b[0m \u001b[32m━━━━━━━━━━━━━━━━━━━━\u001b[0m\u001b[37m\u001b[0m \u001b[1m14s\u001b[0m 36ms/step - accuracy: 0.9898 - loss: 0.0344\n",
      "Epoch 97/100\n",
      "\u001b[1m391/391\u001b[0m \u001b[32m━━━━━━━━━━━━━━━━━━━━\u001b[0m\u001b[37m\u001b[0m \u001b[1m14s\u001b[0m 36ms/step - accuracy: 0.9886 - loss: 0.0399\n",
      "Epoch 98/100\n",
      "\u001b[1m391/391\u001b[0m \u001b[32m━━━━━━━━━━━━━━━━━━━━\u001b[0m\u001b[37m\u001b[0m \u001b[1m14s\u001b[0m 36ms/step - accuracy: 0.9901 - loss: 0.0363\n",
      "Epoch 99/100\n",
      "\u001b[1m391/391\u001b[0m \u001b[32m━━━━━━━━━━━━━━━━━━━━\u001b[0m\u001b[37m\u001b[0m \u001b[1m14s\u001b[0m 37ms/step - accuracy: 0.9893 - loss: 0.0381\n",
      "Epoch 100/100\n",
      "\u001b[1m391/391\u001b[0m \u001b[32m━━━━━━━━━━━━━━━━━━━━\u001b[0m\u001b[37m\u001b[0m \u001b[1m14s\u001b[0m 36ms/step - accuracy: 0.9873 - loss: 0.0498\n"
     ]
    }
   ],
   "source": [
    "resultado = modelo.fit(\n",
    "    x=entradas_gray,\n",
    "    y=saida_encoded,\n",
    "    batch_size=128,\n",
    "    epochs=100,\n",
    "    verbose=1\n",
    ")\n",
    "\n",
    "# 254 - 303ms/step -> CPU\n",
    "## 278,5ms / step -> 1,815 min / epoch -> ~3 horas para treinar\n",
    "# 35 - 43ms/step -> GPU\n",
    "## 39ms / step -> 15,249 s / epoch -> ~25 minutos para treinar"
   ]
  },
  {
   "cell_type": "code",
   "execution_count": 16,
   "metadata": {},
   "outputs": [
    {
     "name": "stdout",
     "output_type": "stream",
     "text": [
      "Precisão de treinamento:  95.7706198990345 %\n",
      "Perda de treinamento:  0.13111888408660888\n"
     ]
    },
    {
     "data": {
      "image/png": "[encoded data removed]",
      "text/plain": [
       "<Figure size 900x500 with 2 Axes>"
      ]
     },
     "metadata": {},
     "output_type": "display_data"
    }
   ],
   "source": [
    "print_history(resultado)\n",
    "plot_history(resultado)"
   ]
  }
 ],
 "metadata": {
  "kernelspec": {
   "display_name": "env",
   "language": "python",
   "name": "python3"
  },
  "language_info": {
   "codemirror_mode": {
    "name": "ipython",
    "version": 3
   },
   "file_extension": ".py",
   "mimetype": "text/x-python",
   "name": "python",
   "nbconvert_exporter": "python",
   "pygments_lexer": "ipython3",
   "version": "3.10.12"
  }
 },
 "nbformat": 4,
 "nbformat_minor": 2
}
